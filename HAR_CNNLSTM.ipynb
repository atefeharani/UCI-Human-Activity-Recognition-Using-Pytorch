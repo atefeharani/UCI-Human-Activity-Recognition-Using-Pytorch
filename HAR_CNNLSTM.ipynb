{
  "cells": [
    {
      "cell_type": "markdown",
      "metadata": {
        "id": "view-in-github",
        "colab_type": "text"
      },
      "source": [
        "<a href=\"https://colab.research.google.com/github/atefeharani/UCI-Human-Activity-Recognition-Using-Pytorch/blob/main/HAR_CNNLSTM.ipynb\" target=\"_parent\"><img src=\"https://colab.research.google.com/assets/colab-badge.svg\" alt=\"Open In Colab\"/></a>"
      ]
    },
    {
      "cell_type": "markdown",
      "metadata": {
        "id": "qL0K8Z91OMxx"
      },
      "source": [
        "# **Google Drive**"
      ]
    },
    {
      "cell_type": "code",
      "execution_count": null,
      "metadata": {
        "colab": {
          "base_uri": "https://localhost:8080/"
        },
        "id": "15iVUBqk9Fyo",
        "outputId": "78151f28-1c86-4ddb-b752-c7276ff16622"
      },
      "outputs": [
        {
          "output_type": "stream",
          "name": "stdout",
          "text": [
            "Drive already mounted at /content/drive; to attempt to forcibly remount, call drive.mount(\"/content/drive\", force_remount=True).\n"
          ]
        }
      ],
      "source": [
        "from google.colab import drive\n",
        "drive.mount('/content/drive')"
      ]
    },
    {
      "cell_type": "markdown",
      "metadata": {
        "id": "ubp9lSqgJUx7"
      },
      "source": [
        "##**GPU**"
      ]
    },
    {
      "cell_type": "markdown",
      "metadata": {
        "id": "qMUndHRpXT6B"
      },
      "source": [
        "jupyter notebook --NotebookApp.allow_origin='https://colab.research.google.com' --port=4000 --NotebookApp.port_retries=0"
      ]
    },
    {
      "cell_type": "code",
      "execution_count": null,
      "metadata": {
        "colab": {
          "base_uri": "https://localhost:8080/"
        },
        "id": "FvB2dRFFJZqK",
        "outputId": "0fb30c1b-8089-47a4-d725-0f0d51905b42"
      },
      "outputs": [
        {
          "output_type": "stream",
          "name": "stdout",
          "text": [
            "NVIDIA-SMI has failed because it couldn't communicate with the NVIDIA driver. Make sure that the latest NVIDIA driver is installed and running.\n",
            "\n"
          ]
        }
      ],
      "source": [
        "!nvidia-smi"
      ]
    },
    {
      "cell_type": "markdown",
      "metadata": {
        "id": "ELwgzDfGFXvr"
      },
      "source": [
        "# **Install**"
      ]
    },
    {
      "cell_type": "code",
      "execution_count": null,
      "metadata": {
        "colab": {
          "base_uri": "https://localhost:8080/"
        },
        "id": "dQ9OIgAs4iWa",
        "outputId": "d8bca890-77a4-4f02-ae95-3ff8ce6f55c7"
      },
      "outputs": [
        {
          "name": "stdout",
          "output_type": "stream",
          "text": [
            "Looking in indexes: https://pypi.org/simple, https://us-python.pkg.dev/colab-wheels/public/simple/\n",
            "Collecting torchmetrics\n",
            "  Downloading torchmetrics-0.11.0-py3-none-any.whl (512 kB)\n",
            "\u001b[K     |████████████████████████████████| 512 kB 8.0 MB/s \n",
            "\u001b[?25hRequirement already satisfied: torch>=1.8.1 in /usr/local/lib/python3.8/dist-packages (from torchmetrics) (1.13.0+cu116)\n",
            "Requirement already satisfied: numpy>=1.17.2 in /usr/local/lib/python3.8/dist-packages (from torchmetrics) (1.21.6)\n",
            "Requirement already satisfied: typing-extensions in /usr/local/lib/python3.8/dist-packages (from torchmetrics) (4.4.0)\n",
            "Requirement already satisfied: packaging in /usr/local/lib/python3.8/dist-packages (from torchmetrics) (21.3)\n",
            "Requirement already satisfied: pyparsing!=3.0.5,>=2.0.2 in /usr/local/lib/python3.8/dist-packages (from packaging->torchmetrics) (3.0.9)\n",
            "Installing collected packages: torchmetrics\n",
            "Successfully installed torchmetrics-0.11.0\n"
          ]
        }
      ],
      "source": [
        "!pip install torchmetrics"
      ]
    },
    {
      "cell_type": "markdown",
      "metadata": {
        "id": "fQFlVvECeZsD"
      },
      "source": [
        "# **Imports 📢**"
      ]
    },
    {
      "cell_type": "code",
      "execution_count": null,
      "metadata": {
        "id": "Jnc2LOc9eRjD"
      },
      "outputs": [],
      "source": [
        "import torch\n",
        "import torch.nn as nn\n",
        "import torch.optim as optim\n",
        "import torch.nn.functional as F\n",
        "from torch.utils.data import TensorDataset, DataLoader, random_split\n",
        "import torch.backends.cudnn as cudnn\n",
        "\n",
        "import torchvision\n",
        "from torchvision.datasets import CIFAR10\n",
        "from torchvision import transforms as T\n",
        "\n",
        "from sklearn.model_selection import train_test_split\n",
        "import matplotlib.pyplot as plt\n",
        "import numpy as np\n",
        "import pandas as pd\n",
        "\n",
        "from torchmetrics import Accuracy\n",
        "from tqdm import tqdm\n",
        "\n",
        "import glob"
      ]
    },
    {
      "cell_type": "markdown",
      "metadata": {
        "id": "OsNaqujTeiGx"
      },
      "source": [
        "# **Dataset 🗂️**"
      ]
    },
    {
      "cell_type": "markdown",
      "metadata": {
        "id": "MHXCDiv6vVv0"
      },
      "source": [
        "## Load dataset"
      ]
    },
    {
      "cell_type": "code",
      "execution_count": null,
      "metadata": {
        "id": "b3sRadLmWRj0"
      },
      "outputs": [],
      "source": [
        "!cp '/content/drive/MyDrive/Howsam/session6_rnn/UCI HAR Dataset.zip' /content/"
      ]
    },
    {
      "cell_type": "code",
      "execution_count": null,
      "metadata": {
        "colab": {
          "base_uri": "https://localhost:8080/"
        },
        "id": "UcwR1dCR-gWB",
        "outputId": "713c3245-96c0-43fa-b5c2-abf1806f5206"
      },
      "outputs": [
        {
          "name": "stdout",
          "output_type": "stream",
          "text": [
            "Archive:  /content/UCI HAR Dataset.zip\n",
            "   creating: UCI HAR Dataset/\n",
            "  inflating: UCI HAR Dataset/.DS_Store  \n",
            "   creating: __MACOSX/\n",
            "   creating: __MACOSX/UCI HAR Dataset/\n",
            "  inflating: __MACOSX/UCI HAR Dataset/._.DS_Store  \n",
            "  inflating: UCI HAR Dataset/activity_labels.txt  \n",
            "  inflating: __MACOSX/UCI HAR Dataset/._activity_labels.txt  \n",
            "  inflating: UCI HAR Dataset/features.txt  \n",
            "  inflating: __MACOSX/UCI HAR Dataset/._features.txt  \n",
            "  inflating: UCI HAR Dataset/features_info.txt  \n",
            "  inflating: __MACOSX/UCI HAR Dataset/._features_info.txt  \n",
            "  inflating: UCI HAR Dataset/README.txt  \n",
            "  inflating: __MACOSX/UCI HAR Dataset/._README.txt  \n",
            "   creating: UCI HAR Dataset/test/\n",
            "   creating: UCI HAR Dataset/test/Inertial Signals/\n",
            "  inflating: UCI HAR Dataset/test/Inertial Signals/body_acc_x_test.txt  \n",
            "   creating: __MACOSX/UCI HAR Dataset/test/\n",
            "   creating: __MACOSX/UCI HAR Dataset/test/Inertial Signals/\n",
            "  inflating: __MACOSX/UCI HAR Dataset/test/Inertial Signals/._body_acc_x_test.txt  \n",
            "  inflating: UCI HAR Dataset/test/Inertial Signals/body_acc_y_test.txt  \n",
            "  inflating: __MACOSX/UCI HAR Dataset/test/Inertial Signals/._body_acc_y_test.txt  \n",
            "  inflating: UCI HAR Dataset/test/Inertial Signals/body_acc_z_test.txt  \n",
            "  inflating: __MACOSX/UCI HAR Dataset/test/Inertial Signals/._body_acc_z_test.txt  \n",
            "  inflating: UCI HAR Dataset/test/Inertial Signals/body_gyro_x_test.txt  \n",
            "  inflating: __MACOSX/UCI HAR Dataset/test/Inertial Signals/._body_gyro_x_test.txt  \n",
            "  inflating: UCI HAR Dataset/test/Inertial Signals/body_gyro_y_test.txt  \n",
            "  inflating: __MACOSX/UCI HAR Dataset/test/Inertial Signals/._body_gyro_y_test.txt  \n",
            "  inflating: UCI HAR Dataset/test/Inertial Signals/body_gyro_z_test.txt  \n",
            "  inflating: __MACOSX/UCI HAR Dataset/test/Inertial Signals/._body_gyro_z_test.txt  \n",
            "  inflating: UCI HAR Dataset/test/Inertial Signals/total_acc_x_test.txt  \n",
            "  inflating: __MACOSX/UCI HAR Dataset/test/Inertial Signals/._total_acc_x_test.txt  \n",
            "  inflating: UCI HAR Dataset/test/Inertial Signals/total_acc_y_test.txt  \n",
            "  inflating: __MACOSX/UCI HAR Dataset/test/Inertial Signals/._total_acc_y_test.txt  \n",
            "  inflating: UCI HAR Dataset/test/Inertial Signals/total_acc_z_test.txt  \n",
            "  inflating: __MACOSX/UCI HAR Dataset/test/Inertial Signals/._total_acc_z_test.txt  \n",
            "  inflating: __MACOSX/UCI HAR Dataset/test/._Inertial Signals  \n",
            "  inflating: UCI HAR Dataset/test/subject_test.txt  \n",
            "  inflating: __MACOSX/UCI HAR Dataset/test/._subject_test.txt  \n",
            "  inflating: UCI HAR Dataset/test/X_test.txt  \n",
            "  inflating: __MACOSX/UCI HAR Dataset/test/._X_test.txt  \n",
            "  inflating: UCI HAR Dataset/test/y_test.txt  \n",
            "  inflating: __MACOSX/UCI HAR Dataset/test/._y_test.txt  \n",
            "  inflating: __MACOSX/UCI HAR Dataset/._test  \n",
            "   creating: UCI HAR Dataset/train/\n",
            "   creating: UCI HAR Dataset/train/Inertial Signals/\n",
            "  inflating: UCI HAR Dataset/train/Inertial Signals/body_acc_x_train.txt  \n",
            "   creating: __MACOSX/UCI HAR Dataset/train/\n",
            "   creating: __MACOSX/UCI HAR Dataset/train/Inertial Signals/\n",
            "  inflating: __MACOSX/UCI HAR Dataset/train/Inertial Signals/._body_acc_x_train.txt  \n",
            "  inflating: UCI HAR Dataset/train/Inertial Signals/body_acc_y_train.txt  \n",
            "  inflating: __MACOSX/UCI HAR Dataset/train/Inertial Signals/._body_acc_y_train.txt  \n",
            "  inflating: UCI HAR Dataset/train/Inertial Signals/body_acc_z_train.txt  \n",
            "  inflating: __MACOSX/UCI HAR Dataset/train/Inertial Signals/._body_acc_z_train.txt  \n",
            "  inflating: UCI HAR Dataset/train/Inertial Signals/body_gyro_x_train.txt  \n",
            "  inflating: __MACOSX/UCI HAR Dataset/train/Inertial Signals/._body_gyro_x_train.txt  \n",
            "  inflating: UCI HAR Dataset/train/Inertial Signals/body_gyro_y_train.txt  \n",
            "  inflating: __MACOSX/UCI HAR Dataset/train/Inertial Signals/._body_gyro_y_train.txt  \n",
            "  inflating: UCI HAR Dataset/train/Inertial Signals/body_gyro_z_train.txt  \n",
            "  inflating: __MACOSX/UCI HAR Dataset/train/Inertial Signals/._body_gyro_z_train.txt  \n",
            "  inflating: UCI HAR Dataset/train/Inertial Signals/total_acc_x_train.txt  \n",
            "  inflating: __MACOSX/UCI HAR Dataset/train/Inertial Signals/._total_acc_x_train.txt  \n",
            "  inflating: UCI HAR Dataset/train/Inertial Signals/total_acc_y_train.txt  \n",
            "  inflating: __MACOSX/UCI HAR Dataset/train/Inertial Signals/._total_acc_y_train.txt  \n",
            "  inflating: UCI HAR Dataset/train/Inertial Signals/total_acc_z_train.txt  \n",
            "  inflating: __MACOSX/UCI HAR Dataset/train/Inertial Signals/._total_acc_z_train.txt  \n",
            "  inflating: __MACOSX/UCI HAR Dataset/train/._Inertial Signals  \n",
            "  inflating: UCI HAR Dataset/train/subject_train.txt  \n",
            "  inflating: __MACOSX/UCI HAR Dataset/train/._subject_train.txt  \n",
            "  inflating: UCI HAR Dataset/train/X_train.txt  \n",
            "  inflating: __MACOSX/UCI HAR Dataset/train/._X_train.txt  \n",
            "  inflating: UCI HAR Dataset/train/y_train.txt  \n",
            "  inflating: __MACOSX/UCI HAR Dataset/train/._y_train.txt  \n",
            "  inflating: __MACOSX/UCI HAR Dataset/._train  \n",
            "  inflating: __MACOSX/._UCI HAR Dataset  \n"
          ]
        }
      ],
      "source": [
        "!unzip '/content/UCI HAR Dataset.zip'  "
      ]
    },
    {
      "cell_type": "code",
      "execution_count": null,
      "metadata": {
        "id": "hINtiGq0Mzjo"
      },
      "outputs": [],
      "source": [
        "def har_dataset(phase):\n",
        "  x = []\n",
        "  data_dir = f'UCI HAR Dataset/{phase}/Inertial Signals/*'\n",
        "  lis = glob.glob(data_dir)\n",
        "  lis.sort()\n",
        "  for file_dir in lis:\n",
        "    x.append(np.loadtxt(file_dir))\n",
        "\n",
        "  y = np.loadtxt(f'UCI HAR Dataset/{phase}/y_{phase}.txt')\n",
        "  x = torch.FloatTensor(x).permute(1, 2, 0)\n",
        "  y = torch.LongTensor(y) - 1\n",
        "  return x, y\n"
      ]
    },
    {
      "cell_type": "code",
      "execution_count": null,
      "metadata": {
        "colab": {
          "base_uri": "https://localhost:8080/"
        },
        "id": "AIdn3BcQODBO",
        "outputId": "060e89d6-f761-4021-a10d-d0138ef71d4d"
      },
      "outputs": [
        {
          "name": "stderr",
          "output_type": "stream",
          "text": [
            "<ipython-input-7-1d1b5fb3b677>:10: UserWarning: Creating a tensor from a list of numpy.ndarrays is extremely slow. Please consider converting the list to a single numpy.ndarray with numpy.array() before converting to a tensor. (Triggered internally at ../torch/csrc/utils/tensor_new.cpp:230.)\n",
            "  x = torch.FloatTensor(x).permute(1, 2, 0)\n"
          ]
        }
      ],
      "source": [
        "x_train, y_train = har_dataset('train')\n",
        "x_test, y_test = har_dataset('test')"
      ]
    },
    {
      "cell_type": "code",
      "execution_count": null,
      "metadata": {
        "colab": {
          "base_uri": "https://localhost:8080/"
        },
        "id": "I4rzI_aBZc1n",
        "outputId": "9ee0fb1e-881c-44b1-acd6-beedb7b8047c"
      },
      "outputs": [
        {
          "data": {
            "text/plain": [
              "(torch.Size([7352, 128, 9]), torch.Size([7352]))"
            ]
          },
          "execution_count": 9,
          "metadata": {},
          "output_type": "execute_result"
        }
      ],
      "source": [
        "x_train.shape, y_train.shape"
      ]
    },
    {
      "cell_type": "code",
      "execution_count": null,
      "metadata": {
        "colab": {
          "base_uri": "https://localhost:8080/"
        },
        "id": "E_mukROL5nsG",
        "outputId": "746a0b69-4f7b-4ab0-ce13-b6770dc46d71"
      },
      "outputs": [
        {
          "data": {
            "text/plain": [
              "(torch.Size([2947, 128, 9]), torch.Size([2947]))"
            ]
          },
          "execution_count": 10,
          "metadata": {},
          "output_type": "execute_result"
        }
      ],
      "source": [
        "x_test.shape, y_test.shape"
      ]
    },
    {
      "cell_type": "markdown",
      "metadata": {
        "id": "24Dxf2xA4TaT"
      },
      "source": [
        "Activities are the class labels. It is a 6 class classification\n",
        "\n",
        "    0: Walking\n",
        "\n",
        "    1: Walking_Upstairs\n",
        "\n",
        "    2: Walking_Downstairs\n",
        "\n",
        "    3: Sitting\n",
        "\n",
        "    4: Standing\n",
        "\n",
        "    5: Laying\n"
      ]
    },
    {
      "cell_type": "code",
      "execution_count": null,
      "metadata": {
        "colab": {
          "base_uri": "https://localhost:8080/"
        },
        "id": "ASX5bAP-14Cv",
        "outputId": "254919d6-c24a-48ed-e5d6-9476cce00d7f"
      },
      "outputs": [
        {
          "data": {
            "text/plain": [
              "tensor([0, 1, 2, 3, 4, 5])"
            ]
          },
          "execution_count": 11,
          "metadata": {},
          "output_type": "execute_result"
        }
      ],
      "source": [
        "torch.unique(y_train)"
      ]
    },
    {
      "cell_type": "markdown",
      "metadata": {
        "id": "FpY1h4DZvHmc"
      },
      "source": [
        "## TensorDataset"
      ]
    },
    {
      "cell_type": "code",
      "execution_count": null,
      "metadata": {
        "id": "q-1IcLDEqtzp"
      },
      "outputs": [],
      "source": [
        "train_set = TensorDataset(x_train, y_train)\n",
        "test_set = TensorDataset(x_test, y_test)"
      ]
    },
    {
      "cell_type": "markdown",
      "metadata": {
        "id": "3aQRTc6n7-hi"
      },
      "source": [
        "## DataLoader"
      ]
    },
    {
      "cell_type": "code",
      "execution_count": null,
      "metadata": {
        "id": "MWf29MbO79gp"
      },
      "outputs": [],
      "source": [
        "train_loader = DataLoader(train_set, batch_size=256, shuffle=True)\n",
        "test_loader = DataLoader(test_set, batch_size=256, shuffle=False)"
      ]
    },
    {
      "cell_type": "markdown",
      "metadata": {
        "id": "DY5JMY1Yftsr"
      },
      "source": [
        "# **Device ⚙️**"
      ]
    },
    {
      "cell_type": "code",
      "execution_count": null,
      "metadata": {
        "colab": {
          "base_uri": "https://localhost:8080/",
          "height": 35
        },
        "id": "Ce6_MpTcfrGi",
        "outputId": "a721f55e-a62d-4b6d-ed6a-ac5fc5e65166"
      },
      "outputs": [
        {
          "data": {
            "application/vnd.google.colaboratory.intrinsic+json": {
              "type": "string"
            },
            "text/plain": [
              "'cuda'"
            ]
          },
          "execution_count": 14,
          "metadata": {},
          "output_type": "execute_result"
        }
      ],
      "source": [
        "device = 'cuda' if torch.cuda.is_available() else 'cpu'\n",
        "device"
      ]
    },
    {
      "cell_type": "markdown",
      "metadata": {
        "id": "mbpEEA0g1-Be"
      },
      "source": [
        "# **Utils 🧰**"
      ]
    },
    {
      "cell_type": "code",
      "execution_count": null,
      "metadata": {
        "id": "G6s889_UrqDT"
      },
      "outputs": [],
      "source": [
        "class AverageMeter(object):\n",
        "    \"\"\"Computes and stores the average and current value\"\"\"\n",
        "    def __init__(self):\n",
        "        self.reset()\n",
        "\n",
        "    def reset(self):\n",
        "        self.val = 0\n",
        "        self.avg = 0\n",
        "        self.sum = 0\n",
        "        self.count = 0\n",
        "\n",
        "    def update(self, val, n=1):\n",
        "        self.val = val\n",
        "        self.sum += val * n\n",
        "        self.count += n\n",
        "        self.avg = self.sum / self.count"
      ]
    },
    {
      "cell_type": "markdown",
      "metadata": {
        "id": "B_LljZFVAFPA"
      },
      "source": [
        "# **Functions** 🧮"
      ]
    },
    {
      "cell_type": "code",
      "execution_count": null,
      "metadata": {
        "id": "4W9MVeEqAYiq"
      },
      "outputs": [],
      "source": [
        "def train_one_epoch(model, train_loader, loss_fn, optimizer, epoch=None):\n",
        "  model.train()\n",
        "  loss_train = AverageMeter()\n",
        "  acc_train = Accuracy(task='multiclass', num_classes=6).to(device)   #task='multiclass', num_classes=6\n",
        " \n",
        "  with tqdm(train_loader, unit=\"batch\") as tepoch:\n",
        "    for inputs, targets in tepoch:\n",
        "      if epoch is not None:\n",
        "        tepoch.set_description(f\"Epoch {epoch}\")\n",
        "      inputs = inputs.to(device)\n",
        "      targets = targets.to(device)\n",
        "\n",
        "      outputs = model(inputs)\n",
        "      \n",
        "      loss = loss_fn(outputs, targets)\n",
        "\n",
        "      loss.backward()\n",
        "      optimizer.step()\n",
        "      optimizer.zero_grad()\n",
        "\n",
        "      loss_train.update(loss.item())\n",
        "      acc_train(outputs, targets.int())\n",
        "      tepoch.set_postfix(loss=loss_train.avg, \n",
        "                         accuracy=acc_train.compute().item())\n",
        "  return model, loss_train.avg, acc_train.compute().item()"
      ]
    },
    {
      "cell_type": "code",
      "execution_count": null,
      "metadata": {
        "id": "ZEoGrXwZAaym"
      },
      "outputs": [],
      "source": [
        "def validation(model, test_loader, loss_fn):\n",
        "  model.eval()\n",
        "  with torch.no_grad():\n",
        "    loss_valid = AverageMeter()\n",
        "    acc_valid = Accuracy(task='multiclass', num_classes=6).to(device)\n",
        "    for i, (inputs, targets) in enumerate(test_loader):\n",
        "      inputs = inputs.to(device)\n",
        "      targets = targets.to(device)\n",
        "\n",
        "      outputs = model(inputs)\n",
        "      loss = loss_fn(outputs, targets)\n",
        "      \n",
        "      loss_valid.update(loss.item())\n",
        "      acc_valid(outputs, targets.int())\n",
        "  return loss_valid.avg, acc_valid.compute().item()"
      ]
    },
    {
      "cell_type": "markdown",
      "metadata": {
        "id": "-NBcJXJkfgUI"
      },
      "source": [
        "# **Model 🧠**"
      ]
    },
    {
      "cell_type": "markdown",
      "metadata": {
        "id": "QBd6Nu1Y_bJc"
      },
      "source": [
        "## CNN-LSTM"
      ]
    },
    {
      "cell_type": "code",
      "execution_count": null,
      "metadata": {
        "id": "TfYoSrCo_gSf"
      },
      "outputs": [],
      "source": [
        "class CNNLSTM(nn.Module):\n",
        "  def __init__(self, input_size, cnn_hidden_size, rnn_hidden_size, num_layers, num_cls):\n",
        "    super().__init__()\n",
        "    \n",
        "    self.conv1 = nn.Conv1d(input_size, cnn_hidden_size, kernel_size=5, padding=1)\n",
        "    self.bn1 = nn.BatchNorm1d(cnn_hidden_size)\n",
        "    \n",
        "    self.conv2 = nn.Conv1d(cnn_hidden_size, cnn_hidden_size, kernel_size=5, padding=1)\n",
        "    self.bn2 = nn.BatchNorm1d(cnn_hidden_size)\n",
        "\n",
        "    self.pool = nn.MaxPool1d(2, 2)\n",
        "    \n",
        "    self.lstm = nn.LSTM(cnn_hidden_size, rnn_hidden_size, num_layers, batch_first=True)\n",
        "\n",
        "    self.fc = nn.LazyLinear(num_cls)\n",
        "\n",
        "  def forward(self, x):\n",
        "    x = x.permute(0, 2, 1)\n",
        "    y = self.bn1(self.conv1(x)).relu()\n",
        "    y = self.bn2(self.conv2(y)).relu()\n",
        "    # y = self.pool(y)\n",
        "\n",
        "    y = y.permute(0, 2, 1)\n",
        "    y, _ = self.lstm(y)\n",
        "    y = self.fc(y)\n",
        "    return y.mean(dim=1)"
      ]
    },
    {
      "cell_type": "code",
      "execution_count": null,
      "metadata": {
        "colab": {
          "base_uri": "https://localhost:8080/"
        },
        "id": "Od7tJuSsKggM",
        "outputId": "f48d400b-ad59-43d8-cee7-36ba9bd4a6b2"
      },
      "outputs": [
        {
          "name": "stderr",
          "output_type": "stream",
          "text": [
            "/usr/local/lib/python3.8/dist-packages/torch/nn/modules/lazy.py:180: UserWarning: Lazy modules are a new feature under heavy development so changes to the API or functionality can happen at any moment.\n",
            "  warnings.warn('Lazy modules are a new feature under heavy development '\n"
          ]
        },
        {
          "data": {
            "text/plain": [
              "CNNLSTM(\n",
              "  (conv1): Conv1d(9, 32, kernel_size=(5,), stride=(1,), padding=(1,))\n",
              "  (bn1): BatchNorm1d(32, eps=1e-05, momentum=0.1, affine=True, track_running_stats=True)\n",
              "  (conv2): Conv1d(32, 32, kernel_size=(5,), stride=(1,), padding=(1,))\n",
              "  (bn2): BatchNorm1d(32, eps=1e-05, momentum=0.1, affine=True, track_running_stats=True)\n",
              "  (pool): MaxPool1d(kernel_size=2, stride=2, padding=0, dilation=1, ceil_mode=False)\n",
              "  (lstm): LSTM(32, 128, num_layers=3, batch_first=True)\n",
              "  (fc): LazyLinear(in_features=0, out_features=6, bias=True)\n",
              ")"
            ]
          },
          "execution_count": 19,
          "metadata": {},
          "output_type": "execute_result"
        }
      ],
      "source": [
        "model = CNNLSTM(9, 32, 128, 3, 6).to(device)\n",
        "model"
      ]
    },
    {
      "cell_type": "code",
      "execution_count": null,
      "metadata": {
        "id": "7cUTMEIwONl4"
      },
      "outputs": [],
      "source": [
        "lr = 0.01\n",
        "wd = 1e-4\n",
        "optimizer = optim.SGD(model.parameters(), lr=lr, weight_decay=wd, momentum=0.9)\n",
        "\n",
        "loss_fn = nn.CrossEntropyLoss()"
      ]
    },
    {
      "cell_type": "code",
      "execution_count": null,
      "metadata": {
        "id": "CAAhZsjfePj6"
      },
      "outputs": [],
      "source": [
        "loss_train_hist = []\n",
        "loss_valid_hist = []\n",
        "\n",
        "acc_train_hist = []\n",
        "acc_valid_hist = []\n",
        "\n",
        "best_loss_valid = torch.inf\n",
        "epoch_counter = 0"
      ]
    },
    {
      "cell_type": "code",
      "execution_count": null,
      "metadata": {
        "colab": {
          "base_uri": "https://localhost:8080/"
        },
        "id": "hV47Pau7M2Ps",
        "outputId": "fe37e8a1-9702-4b30-e9f9-f3aec1a9efde"
      },
      "outputs": [
        {
          "name": "stderr",
          "output_type": "stream",
          "text": [
            "Epoch 0: 100%|██████████| 29/29 [00:01<00:00, 19.45batch/s, accuracy=0.977, loss=0.0501]\n"
          ]
        },
        {
          "name": "stdout",
          "output_type": "stream",
          "text": [
            "Valid: Loss = 0.4441, Acc = 0.9152\n",
            "\n"
          ]
        },
        {
          "name": "stderr",
          "output_type": "stream",
          "text": [
            "Epoch 1: 100%|██████████| 29/29 [00:01<00:00, 20.71batch/s, accuracy=0.977, loss=0.0468]\n"
          ]
        },
        {
          "name": "stdout",
          "output_type": "stream",
          "text": [
            "Valid: Loss = 0.4367, Acc = 0.9145\n",
            "\n"
          ]
        },
        {
          "name": "stderr",
          "output_type": "stream",
          "text": [
            "Epoch 2: 100%|██████████| 29/29 [00:01<00:00, 22.11batch/s, accuracy=0.976, loss=0.0465]\n"
          ]
        },
        {
          "name": "stdout",
          "output_type": "stream",
          "text": [
            "Valid: Loss = 0.4453, Acc = 0.9135\n",
            "\n"
          ]
        },
        {
          "name": "stderr",
          "output_type": "stream",
          "text": [
            "Epoch 3: 100%|██████████| 29/29 [00:01<00:00, 21.82batch/s, accuracy=0.978, loss=0.0445]\n"
          ]
        },
        {
          "name": "stdout",
          "output_type": "stream",
          "text": [
            "Valid: Loss = 0.4435, Acc = 0.9128\n",
            "\n"
          ]
        },
        {
          "name": "stderr",
          "output_type": "stream",
          "text": [
            "Epoch 4: 100%|██████████| 29/29 [00:01<00:00, 21.61batch/s, accuracy=0.978, loss=0.0458]\n"
          ]
        },
        {
          "name": "stdout",
          "output_type": "stream",
          "text": [
            "Valid: Loss = 0.4601, Acc = 0.9087\n",
            "\n"
          ]
        },
        {
          "name": "stderr",
          "output_type": "stream",
          "text": [
            "Epoch 5: 100%|██████████| 29/29 [00:01<00:00, 21.64batch/s, accuracy=0.978, loss=0.0431]\n"
          ]
        },
        {
          "name": "stdout",
          "output_type": "stream",
          "text": [
            "Valid: Loss = 0.457, Acc = 0.9158\n",
            "\n"
          ]
        },
        {
          "name": "stderr",
          "output_type": "stream",
          "text": [
            "Epoch 6: 100%|██████████| 29/29 [00:01<00:00, 21.86batch/s, accuracy=0.979, loss=0.0418]\n"
          ]
        },
        {
          "name": "stdout",
          "output_type": "stream",
          "text": [
            "Valid: Loss = 0.4562, Acc = 0.9114\n",
            "\n"
          ]
        },
        {
          "name": "stderr",
          "output_type": "stream",
          "text": [
            "Epoch 7: 100%|██████████| 29/29 [00:01<00:00, 21.91batch/s, accuracy=0.978, loss=0.0421]\n"
          ]
        },
        {
          "name": "stdout",
          "output_type": "stream",
          "text": [
            "Valid: Loss = 0.4677, Acc = 0.9114\n",
            "\n"
          ]
        },
        {
          "name": "stderr",
          "output_type": "stream",
          "text": [
            "Epoch 8: 100%|██████████| 29/29 [00:01<00:00, 21.77batch/s, accuracy=0.98, loss=0.0414]\n"
          ]
        },
        {
          "name": "stdout",
          "output_type": "stream",
          "text": [
            "Valid: Loss = 0.4723, Acc = 0.9128\n",
            "\n"
          ]
        },
        {
          "name": "stderr",
          "output_type": "stream",
          "text": [
            "Epoch 9: 100%|██████████| 29/29 [00:01<00:00, 19.55batch/s, accuracy=0.979, loss=0.0447]\n"
          ]
        },
        {
          "name": "stdout",
          "output_type": "stream",
          "text": [
            "Valid: Loss = 0.4761, Acc = 0.9087\n",
            "\n"
          ]
        },
        {
          "name": "stderr",
          "output_type": "stream",
          "text": [
            "Epoch 10: 100%|██████████| 29/29 [00:01<00:00, 18.81batch/s, accuracy=0.98, loss=0.0404]\n"
          ]
        },
        {
          "name": "stdout",
          "output_type": "stream",
          "text": [
            "Valid: Loss = 0.4753, Acc = 0.9108\n",
            "\n"
          ]
        },
        {
          "name": "stderr",
          "output_type": "stream",
          "text": [
            "Epoch 11: 100%|██████████| 29/29 [00:01<00:00, 22.08batch/s, accuracy=0.979, loss=0.0417]\n"
          ]
        },
        {
          "name": "stdout",
          "output_type": "stream",
          "text": [
            "Valid: Loss = 0.4796, Acc = 0.9087\n",
            "\n"
          ]
        },
        {
          "name": "stderr",
          "output_type": "stream",
          "text": [
            "Epoch 12: 100%|██████████| 29/29 [00:01<00:00, 21.66batch/s, accuracy=0.98, loss=0.0415]\n"
          ]
        },
        {
          "name": "stdout",
          "output_type": "stream",
          "text": [
            "Valid: Loss = 0.4651, Acc = 0.906\n",
            "\n"
          ]
        },
        {
          "name": "stderr",
          "output_type": "stream",
          "text": [
            "Epoch 13: 100%|██████████| 29/29 [00:01<00:00, 21.46batch/s, accuracy=0.98, loss=0.0419]\n"
          ]
        },
        {
          "name": "stdout",
          "output_type": "stream",
          "text": [
            "Valid: Loss = 0.4689, Acc = 0.9053\n",
            "\n"
          ]
        },
        {
          "name": "stderr",
          "output_type": "stream",
          "text": [
            "Epoch 14: 100%|██████████| 29/29 [00:01<00:00, 21.28batch/s, accuracy=0.983, loss=0.0373]\n"
          ]
        },
        {
          "name": "stdout",
          "output_type": "stream",
          "text": [
            "Valid: Loss = 0.4748, Acc = 0.9094\n",
            "\n"
          ]
        },
        {
          "name": "stderr",
          "output_type": "stream",
          "text": [
            "Epoch 15: 100%|██████████| 29/29 [00:01<00:00, 21.72batch/s, accuracy=0.982, loss=0.0397]\n"
          ]
        },
        {
          "name": "stdout",
          "output_type": "stream",
          "text": [
            "Valid: Loss = 0.4804, Acc = 0.9077\n",
            "\n"
          ]
        },
        {
          "name": "stderr",
          "output_type": "stream",
          "text": [
            "Epoch 16: 100%|██████████| 29/29 [00:01<00:00, 21.40batch/s, accuracy=0.98, loss=0.0423]\n"
          ]
        },
        {
          "name": "stdout",
          "output_type": "stream",
          "text": [
            "Valid: Loss = 0.4766, Acc = 0.9087\n",
            "\n"
          ]
        },
        {
          "name": "stderr",
          "output_type": "stream",
          "text": [
            "Epoch 17: 100%|██████████| 29/29 [00:01<00:00, 21.44batch/s, accuracy=0.981, loss=0.0396]\n"
          ]
        },
        {
          "name": "stdout",
          "output_type": "stream",
          "text": [
            "Valid: Loss = 0.4766, Acc = 0.904\n",
            "\n"
          ]
        },
        {
          "name": "stderr",
          "output_type": "stream",
          "text": [
            "Epoch 18: 100%|██████████| 29/29 [00:01<00:00, 21.15batch/s, accuracy=0.979, loss=0.0391]\n"
          ]
        },
        {
          "name": "stdout",
          "output_type": "stream",
          "text": [
            "Valid: Loss = 0.4849, Acc = 0.9043\n",
            "\n"
          ]
        },
        {
          "name": "stderr",
          "output_type": "stream",
          "text": [
            "Epoch 19: 100%|██████████| 29/29 [00:01<00:00, 21.41batch/s, accuracy=0.981, loss=0.0403]\n"
          ]
        },
        {
          "name": "stdout",
          "output_type": "stream",
          "text": [
            "Valid: Loss = 0.4852, Acc = 0.9074\n",
            "\n"
          ]
        },
        {
          "name": "stderr",
          "output_type": "stream",
          "text": [
            "Epoch 20: 100%|██████████| 29/29 [00:01<00:00, 21.35batch/s, accuracy=0.979, loss=0.0435]\n"
          ]
        },
        {
          "name": "stdout",
          "output_type": "stream",
          "text": [
            "Valid: Loss = 0.485, Acc = 0.905\n",
            "\n"
          ]
        },
        {
          "name": "stderr",
          "output_type": "stream",
          "text": [
            "Epoch 21: 100%|██████████| 29/29 [00:01<00:00, 21.45batch/s, accuracy=0.98, loss=0.0405]\n"
          ]
        },
        {
          "name": "stdout",
          "output_type": "stream",
          "text": [
            "Valid: Loss = 0.4722, Acc = 0.9063\n",
            "\n"
          ]
        },
        {
          "name": "stderr",
          "output_type": "stream",
          "text": [
            "Epoch 22: 100%|██████████| 29/29 [00:01<00:00, 21.29batch/s, accuracy=0.979, loss=0.0404]\n"
          ]
        },
        {
          "name": "stdout",
          "output_type": "stream",
          "text": [
            "Valid: Loss = 0.4745, Acc = 0.908\n",
            "\n"
          ]
        },
        {
          "name": "stderr",
          "output_type": "stream",
          "text": [
            "Epoch 23: 100%|██████████| 29/29 [00:01<00:00, 21.34batch/s, accuracy=0.981, loss=0.0409]\n"
          ]
        },
        {
          "name": "stdout",
          "output_type": "stream",
          "text": [
            "Valid: Loss = 0.4823, Acc = 0.906\n",
            "\n"
          ]
        },
        {
          "name": "stderr",
          "output_type": "stream",
          "text": [
            "Epoch 24: 100%|██████████| 29/29 [00:01<00:00, 20.02batch/s, accuracy=0.98, loss=0.0442]\n"
          ]
        },
        {
          "name": "stdout",
          "output_type": "stream",
          "text": [
            "Valid: Loss = 0.472, Acc = 0.9057\n",
            "\n"
          ]
        },
        {
          "name": "stderr",
          "output_type": "stream",
          "text": [
            "Epoch 25: 100%|██████████| 29/29 [00:01<00:00, 21.01batch/s, accuracy=0.982, loss=0.0393]\n"
          ]
        },
        {
          "name": "stdout",
          "output_type": "stream",
          "text": [
            "Valid: Loss = 0.4732, Acc = 0.9033\n",
            "\n"
          ]
        },
        {
          "name": "stderr",
          "output_type": "stream",
          "text": [
            "Epoch 26: 100%|██████████| 29/29 [00:01<00:00, 21.41batch/s, accuracy=0.98, loss=0.0418]\n"
          ]
        },
        {
          "name": "stdout",
          "output_type": "stream",
          "text": [
            "Valid: Loss = 0.478, Acc = 0.903\n",
            "\n"
          ]
        },
        {
          "name": "stderr",
          "output_type": "stream",
          "text": [
            "Epoch 27: 100%|██████████| 29/29 [00:01<00:00, 20.90batch/s, accuracy=0.982, loss=0.0405]\n"
          ]
        },
        {
          "name": "stdout",
          "output_type": "stream",
          "text": [
            "Valid: Loss = 0.4786, Acc = 0.9074\n",
            "\n"
          ]
        },
        {
          "name": "stderr",
          "output_type": "stream",
          "text": [
            "Epoch 28: 100%|██████████| 29/29 [00:01<00:00, 21.12batch/s, accuracy=0.98, loss=0.0401]\n"
          ]
        },
        {
          "name": "stdout",
          "output_type": "stream",
          "text": [
            "Valid: Loss = 0.4742, Acc = 0.9074\n",
            "\n"
          ]
        },
        {
          "name": "stderr",
          "output_type": "stream",
          "text": [
            "Epoch 29: 100%|██████████| 29/29 [00:01<00:00, 21.47batch/s, accuracy=0.982, loss=0.0383]\n"
          ]
        },
        {
          "name": "stdout",
          "output_type": "stream",
          "text": [
            "Valid: Loss = 0.4778, Acc = 0.904\n",
            "\n"
          ]
        },
        {
          "name": "stderr",
          "output_type": "stream",
          "text": [
            "Epoch 30: 100%|██████████| 29/29 [00:01<00:00, 21.19batch/s, accuracy=0.981, loss=0.0427]\n"
          ]
        },
        {
          "name": "stdout",
          "output_type": "stream",
          "text": [
            "Valid: Loss = 0.4733, Acc = 0.9114\n",
            "\n"
          ]
        },
        {
          "name": "stderr",
          "output_type": "stream",
          "text": [
            "Epoch 31: 100%|██████████| 29/29 [00:01<00:00, 20.98batch/s, accuracy=0.979, loss=0.0438]\n"
          ]
        },
        {
          "name": "stdout",
          "output_type": "stream",
          "text": [
            "Valid: Loss = 0.4777, Acc = 0.9053\n",
            "\n"
          ]
        },
        {
          "name": "stderr",
          "output_type": "stream",
          "text": [
            "Epoch 32: 100%|██████████| 29/29 [00:01<00:00, 21.43batch/s, accuracy=0.983, loss=0.0371]\n"
          ]
        },
        {
          "name": "stdout",
          "output_type": "stream",
          "text": [
            "Valid: Loss = 0.4709, Acc = 0.9067\n",
            "\n"
          ]
        },
        {
          "name": "stderr",
          "output_type": "stream",
          "text": [
            "Epoch 33: 100%|██████████| 29/29 [00:01<00:00, 21.40batch/s, accuracy=0.983, loss=0.0369]\n"
          ]
        },
        {
          "name": "stdout",
          "output_type": "stream",
          "text": [
            "Valid: Loss = 0.4751, Acc = 0.9077\n",
            "\n"
          ]
        },
        {
          "name": "stderr",
          "output_type": "stream",
          "text": [
            "Epoch 34: 100%|██████████| 29/29 [00:01<00:00, 21.70batch/s, accuracy=0.98, loss=0.0402]\n"
          ]
        },
        {
          "name": "stdout",
          "output_type": "stream",
          "text": [
            "Valid: Loss = 0.4667, Acc = 0.9057\n",
            "\n"
          ]
        },
        {
          "name": "stderr",
          "output_type": "stream",
          "text": [
            "Epoch 35: 100%|██████████| 29/29 [00:01<00:00, 21.42batch/s, accuracy=0.982, loss=0.0387]\n"
          ]
        },
        {
          "name": "stdout",
          "output_type": "stream",
          "text": [
            "Valid: Loss = 0.4727, Acc = 0.9016\n",
            "\n"
          ]
        },
        {
          "name": "stderr",
          "output_type": "stream",
          "text": [
            "Epoch 36: 100%|██████████| 29/29 [00:01<00:00, 21.56batch/s, accuracy=0.985, loss=0.0363]\n"
          ]
        },
        {
          "name": "stdout",
          "output_type": "stream",
          "text": [
            "Valid: Loss = 0.4818, Acc = 0.904\n",
            "\n"
          ]
        },
        {
          "name": "stderr",
          "output_type": "stream",
          "text": [
            "Epoch 37: 100%|██████████| 29/29 [00:01<00:00, 21.36batch/s, accuracy=0.981, loss=0.0406]\n"
          ]
        },
        {
          "name": "stdout",
          "output_type": "stream",
          "text": [
            "Valid: Loss = 0.4764, Acc = 0.906\n",
            "\n"
          ]
        },
        {
          "name": "stderr",
          "output_type": "stream",
          "text": [
            "Epoch 38: 100%|██████████| 29/29 [00:01<00:00, 21.51batch/s, accuracy=0.981, loss=0.0411]\n"
          ]
        },
        {
          "name": "stdout",
          "output_type": "stream",
          "text": [
            "Valid: Loss = 0.4699, Acc = 0.905\n",
            "\n"
          ]
        },
        {
          "name": "stderr",
          "output_type": "stream",
          "text": [
            "Epoch 39: 100%|██████████| 29/29 [00:01<00:00, 21.36batch/s, accuracy=0.98, loss=0.041]\n"
          ]
        },
        {
          "name": "stdout",
          "output_type": "stream",
          "text": [
            "Valid: Loss = 0.4487, Acc = 0.9141\n",
            "\n"
          ]
        },
        {
          "name": "stderr",
          "output_type": "stream",
          "text": [
            "Epoch 40: 100%|██████████| 29/29 [00:01<00:00, 21.36batch/s, accuracy=0.982, loss=0.0383]\n"
          ]
        },
        {
          "name": "stdout",
          "output_type": "stream",
          "text": [
            "Valid: Loss = 0.4612, Acc = 0.9084\n",
            "\n"
          ]
        },
        {
          "name": "stderr",
          "output_type": "stream",
          "text": [
            "Epoch 41: 100%|██████████| 29/29 [00:01<00:00, 21.40batch/s, accuracy=0.983, loss=0.0377]\n"
          ]
        },
        {
          "name": "stdout",
          "output_type": "stream",
          "text": [
            "Valid: Loss = 0.4622, Acc = 0.907\n",
            "\n"
          ]
        },
        {
          "name": "stderr",
          "output_type": "stream",
          "text": [
            "Epoch 42: 100%|██████████| 29/29 [00:01<00:00, 21.28batch/s, accuracy=0.983, loss=0.037]\n"
          ]
        },
        {
          "name": "stdout",
          "output_type": "stream",
          "text": [
            "Valid: Loss = 0.4711, Acc = 0.9084\n",
            "\n"
          ]
        },
        {
          "name": "stderr",
          "output_type": "stream",
          "text": [
            "Epoch 43: 100%|██████████| 29/29 [00:01<00:00, 21.31batch/s, accuracy=0.981, loss=0.0391]\n"
          ]
        },
        {
          "name": "stdout",
          "output_type": "stream",
          "text": [
            "Valid: Loss = 0.4743, Acc = 0.903\n",
            "\n"
          ]
        },
        {
          "name": "stderr",
          "output_type": "stream",
          "text": [
            "Epoch 44: 100%|██████████| 29/29 [00:01<00:00, 21.54batch/s, accuracy=0.983, loss=0.037]\n"
          ]
        },
        {
          "name": "stdout",
          "output_type": "stream",
          "text": [
            "Valid: Loss = 0.4686, Acc = 0.9074\n",
            "\n"
          ]
        },
        {
          "name": "stderr",
          "output_type": "stream",
          "text": [
            "Epoch 45: 100%|██████████| 29/29 [00:01<00:00, 21.41batch/s, accuracy=0.984, loss=0.0352]\n"
          ]
        },
        {
          "name": "stdout",
          "output_type": "stream",
          "text": [
            "Valid: Loss = 0.4719, Acc = 0.9094\n",
            "\n"
          ]
        },
        {
          "name": "stderr",
          "output_type": "stream",
          "text": [
            "Epoch 46: 100%|██████████| 29/29 [00:01<00:00, 21.43batch/s, accuracy=0.981, loss=0.0415]\n"
          ]
        },
        {
          "name": "stdout",
          "output_type": "stream",
          "text": [
            "Valid: Loss = 0.4685, Acc = 0.9084\n",
            "\n"
          ]
        },
        {
          "name": "stderr",
          "output_type": "stream",
          "text": [
            "Epoch 47: 100%|██████████| 29/29 [00:01<00:00, 21.56batch/s, accuracy=0.98, loss=0.0386]\n"
          ]
        },
        {
          "name": "stdout",
          "output_type": "stream",
          "text": [
            "Valid: Loss = 0.4736, Acc = 0.9091\n",
            "\n"
          ]
        },
        {
          "name": "stderr",
          "output_type": "stream",
          "text": [
            "Epoch 48: 100%|██████████| 29/29 [00:01<00:00, 21.48batch/s, accuracy=0.982, loss=0.0383]\n"
          ]
        },
        {
          "name": "stdout",
          "output_type": "stream",
          "text": [
            "Valid: Loss = 0.4667, Acc = 0.9077\n",
            "\n"
          ]
        },
        {
          "name": "stderr",
          "output_type": "stream",
          "text": [
            "Epoch 49: 100%|██████████| 29/29 [00:01<00:00, 21.36batch/s, accuracy=0.981, loss=0.0371]\n"
          ]
        },
        {
          "name": "stdout",
          "output_type": "stream",
          "text": [
            "Valid: Loss = 0.4688, Acc = 0.9101\n",
            "\n"
          ]
        },
        {
          "name": "stderr",
          "output_type": "stream",
          "text": [
            "Epoch 50: 100%|██████████| 29/29 [00:01<00:00, 21.49batch/s, accuracy=0.98, loss=0.0367]\n"
          ]
        },
        {
          "name": "stdout",
          "output_type": "stream",
          "text": [
            "Valid: Loss = 0.4671, Acc = 0.9128\n",
            "\n"
          ]
        },
        {
          "name": "stderr",
          "output_type": "stream",
          "text": [
            "Epoch 51: 100%|██████████| 29/29 [00:01<00:00, 21.63batch/s, accuracy=0.985, loss=0.034]\n"
          ]
        },
        {
          "name": "stdout",
          "output_type": "stream",
          "text": [
            "Valid: Loss = 0.4741, Acc = 0.9087\n",
            "\n"
          ]
        },
        {
          "name": "stderr",
          "output_type": "stream",
          "text": [
            "Epoch 52: 100%|██████████| 29/29 [00:01<00:00, 21.29batch/s, accuracy=0.982, loss=0.0372]\n"
          ]
        },
        {
          "name": "stdout",
          "output_type": "stream",
          "text": [
            "Valid: Loss = 0.4738, Acc = 0.907\n",
            "\n"
          ]
        },
        {
          "name": "stderr",
          "output_type": "stream",
          "text": [
            "Epoch 53: 100%|██████████| 29/29 [00:01<00:00, 20.88batch/s, accuracy=0.983, loss=0.0341]\n"
          ]
        },
        {
          "name": "stdout",
          "output_type": "stream",
          "text": [
            "Valid: Loss = 0.4727, Acc = 0.9104\n",
            "\n"
          ]
        },
        {
          "name": "stderr",
          "output_type": "stream",
          "text": [
            "Epoch 54: 100%|██████████| 29/29 [00:01<00:00, 20.10batch/s, accuracy=0.98, loss=0.0385]\n"
          ]
        },
        {
          "name": "stdout",
          "output_type": "stream",
          "text": [
            "Valid: Loss = 0.4768, Acc = 0.9077\n",
            "\n"
          ]
        },
        {
          "name": "stderr",
          "output_type": "stream",
          "text": [
            "Epoch 55: 100%|██████████| 29/29 [00:01<00:00, 20.98batch/s, accuracy=0.979, loss=0.0396]\n"
          ]
        },
        {
          "name": "stdout",
          "output_type": "stream",
          "text": [
            "Valid: Loss = 0.4762, Acc = 0.9101\n",
            "\n"
          ]
        },
        {
          "name": "stderr",
          "output_type": "stream",
          "text": [
            "Epoch 56: 100%|██████████| 29/29 [00:01<00:00, 21.59batch/s, accuracy=0.982, loss=0.0392]\n"
          ]
        },
        {
          "name": "stdout",
          "output_type": "stream",
          "text": [
            "Valid: Loss = 0.4686, Acc = 0.9091\n",
            "\n"
          ]
        },
        {
          "name": "stderr",
          "output_type": "stream",
          "text": [
            "Epoch 57: 100%|██████████| 29/29 [00:01<00:00, 21.50batch/s, accuracy=0.983, loss=0.0365]\n"
          ]
        },
        {
          "name": "stdout",
          "output_type": "stream",
          "text": [
            "Valid: Loss = 0.4681, Acc = 0.9104\n",
            "\n"
          ]
        },
        {
          "name": "stderr",
          "output_type": "stream",
          "text": [
            "Epoch 58: 100%|██████████| 29/29 [00:01<00:00, 21.55batch/s, accuracy=0.982, loss=0.039]\n"
          ]
        },
        {
          "name": "stdout",
          "output_type": "stream",
          "text": [
            "Valid: Loss = 0.4644, Acc = 0.9084\n",
            "\n"
          ]
        },
        {
          "name": "stderr",
          "output_type": "stream",
          "text": [
            "Epoch 59: 100%|██████████| 29/29 [00:01<00:00, 21.60batch/s, accuracy=0.984, loss=0.0358]\n"
          ]
        },
        {
          "name": "stdout",
          "output_type": "stream",
          "text": [
            "Valid: Loss = 0.4769, Acc = 0.9111\n",
            "\n"
          ]
        },
        {
          "name": "stderr",
          "output_type": "stream",
          "text": [
            "Epoch 60: 100%|██████████| 29/29 [00:01<00:00, 21.63batch/s, accuracy=0.979, loss=0.0438]\n"
          ]
        },
        {
          "name": "stdout",
          "output_type": "stream",
          "text": [
            "Valid: Loss = 0.4676, Acc = 0.9111\n",
            "\n"
          ]
        },
        {
          "name": "stderr",
          "output_type": "stream",
          "text": [
            "Epoch 61: 100%|██████████| 29/29 [00:01<00:00, 21.29batch/s, accuracy=0.981, loss=0.0373]\n"
          ]
        },
        {
          "name": "stdout",
          "output_type": "stream",
          "text": [
            "Valid: Loss = 0.4733, Acc = 0.9057\n",
            "\n"
          ]
        },
        {
          "name": "stderr",
          "output_type": "stream",
          "text": [
            "Epoch 62: 100%|██████████| 29/29 [00:01<00:00, 21.65batch/s, accuracy=0.982, loss=0.0398]\n"
          ]
        },
        {
          "name": "stdout",
          "output_type": "stream",
          "text": [
            "Valid: Loss = 0.4666, Acc = 0.9077\n",
            "\n"
          ]
        },
        {
          "name": "stderr",
          "output_type": "stream",
          "text": [
            "Epoch 63: 100%|██████████| 29/29 [00:01<00:00, 21.44batch/s, accuracy=0.983, loss=0.0369]\n"
          ]
        },
        {
          "name": "stdout",
          "output_type": "stream",
          "text": [
            "Valid: Loss = 0.458, Acc = 0.9114\n",
            "\n"
          ]
        },
        {
          "name": "stderr",
          "output_type": "stream",
          "text": [
            "Epoch 64: 100%|██████████| 29/29 [00:01<00:00, 21.32batch/s, accuracy=0.979, loss=0.0419]\n"
          ]
        },
        {
          "name": "stdout",
          "output_type": "stream",
          "text": [
            "Valid: Loss = 0.4498, Acc = 0.9162\n",
            "\n"
          ]
        },
        {
          "name": "stderr",
          "output_type": "stream",
          "text": [
            "Epoch 65: 100%|██████████| 29/29 [00:01<00:00, 21.46batch/s, accuracy=0.986, loss=0.0343]\n"
          ]
        },
        {
          "name": "stdout",
          "output_type": "stream",
          "text": [
            "Valid: Loss = 0.4571, Acc = 0.9128\n",
            "\n"
          ]
        },
        {
          "name": "stderr",
          "output_type": "stream",
          "text": [
            "Epoch 66: 100%|██████████| 29/29 [00:01<00:00, 21.18batch/s, accuracy=0.982, loss=0.0366]\n"
          ]
        },
        {
          "name": "stdout",
          "output_type": "stream",
          "text": [
            "Valid: Loss = 0.4735, Acc = 0.9087\n",
            "\n"
          ]
        },
        {
          "name": "stderr",
          "output_type": "stream",
          "text": [
            "Epoch 67: 100%|██████████| 29/29 [00:01<00:00, 21.42batch/s, accuracy=0.982, loss=0.0391]\n"
          ]
        },
        {
          "name": "stdout",
          "output_type": "stream",
          "text": [
            "Valid: Loss = 0.4595, Acc = 0.9101\n",
            "\n"
          ]
        },
        {
          "name": "stderr",
          "output_type": "stream",
          "text": [
            "Epoch 68: 100%|██████████| 29/29 [00:01<00:00, 21.35batch/s, accuracy=0.985, loss=0.0332]\n"
          ]
        },
        {
          "name": "stdout",
          "output_type": "stream",
          "text": [
            "Valid: Loss = 0.4654, Acc = 0.9111\n",
            "\n"
          ]
        },
        {
          "name": "stderr",
          "output_type": "stream",
          "text": [
            "Epoch 69: 100%|██████████| 29/29 [00:01<00:00, 21.21batch/s, accuracy=0.985, loss=0.0347]\n"
          ]
        },
        {
          "name": "stdout",
          "output_type": "stream",
          "text": [
            "Valid: Loss = 0.4689, Acc = 0.9114\n",
            "\n"
          ]
        },
        {
          "name": "stderr",
          "output_type": "stream",
          "text": [
            "Epoch 70: 100%|██████████| 29/29 [00:01<00:00, 21.19batch/s, accuracy=0.985, loss=0.0334]\n"
          ]
        },
        {
          "name": "stdout",
          "output_type": "stream",
          "text": [
            "Valid: Loss = 0.4828, Acc = 0.9104\n",
            "\n"
          ]
        },
        {
          "name": "stderr",
          "output_type": "stream",
          "text": [
            "Epoch 71: 100%|██████████| 29/29 [00:01<00:00, 21.23batch/s, accuracy=0.982, loss=0.0416]\n"
          ]
        },
        {
          "name": "stdout",
          "output_type": "stream",
          "text": [
            "Valid: Loss = 0.4731, Acc = 0.9148\n",
            "\n"
          ]
        },
        {
          "name": "stderr",
          "output_type": "stream",
          "text": [
            "Epoch 72: 100%|██████████| 29/29 [00:01<00:00, 21.31batch/s, accuracy=0.984, loss=0.0355]\n"
          ]
        },
        {
          "name": "stdout",
          "output_type": "stream",
          "text": [
            "Valid: Loss = 0.4746, Acc = 0.9114\n",
            "\n"
          ]
        },
        {
          "name": "stderr",
          "output_type": "stream",
          "text": [
            "Epoch 73: 100%|██████████| 29/29 [00:01<00:00, 21.25batch/s, accuracy=0.981, loss=0.0407]\n"
          ]
        },
        {
          "name": "stdout",
          "output_type": "stream",
          "text": [
            "Valid: Loss = 0.474, Acc = 0.9114\n",
            "\n"
          ]
        },
        {
          "name": "stderr",
          "output_type": "stream",
          "text": [
            "Epoch 74: 100%|██████████| 29/29 [00:01<00:00, 21.32batch/s, accuracy=0.982, loss=0.0359]\n"
          ]
        },
        {
          "name": "stdout",
          "output_type": "stream",
          "text": [
            "Valid: Loss = 0.4638, Acc = 0.9152\n",
            "\n"
          ]
        },
        {
          "name": "stderr",
          "output_type": "stream",
          "text": [
            "Epoch 75: 100%|██████████| 29/29 [00:01<00:00, 21.71batch/s, accuracy=0.983, loss=0.0357]\n"
          ]
        },
        {
          "name": "stdout",
          "output_type": "stream",
          "text": [
            "Valid: Loss = 0.4686, Acc = 0.9141\n",
            "\n"
          ]
        },
        {
          "name": "stderr",
          "output_type": "stream",
          "text": [
            "Epoch 76: 100%|██████████| 29/29 [00:01<00:00, 21.35batch/s, accuracy=0.983, loss=0.038]\n"
          ]
        },
        {
          "name": "stdout",
          "output_type": "stream",
          "text": [
            "Valid: Loss = 0.465, Acc = 0.908\n",
            "\n"
          ]
        },
        {
          "name": "stderr",
          "output_type": "stream",
          "text": [
            "Epoch 77: 100%|██████████| 29/29 [00:01<00:00, 21.29batch/s, accuracy=0.984, loss=0.0363]\n"
          ]
        },
        {
          "name": "stdout",
          "output_type": "stream",
          "text": [
            "Valid: Loss = 0.4709, Acc = 0.9074\n",
            "\n"
          ]
        },
        {
          "name": "stderr",
          "output_type": "stream",
          "text": [
            "Epoch 78: 100%|██████████| 29/29 [00:01<00:00, 21.29batch/s, accuracy=0.985, loss=0.0343]\n"
          ]
        },
        {
          "name": "stdout",
          "output_type": "stream",
          "text": [
            "Valid: Loss = 0.4794, Acc = 0.9121\n",
            "\n"
          ]
        },
        {
          "name": "stderr",
          "output_type": "stream",
          "text": [
            "Epoch 79: 100%|██████████| 29/29 [00:01<00:00, 21.24batch/s, accuracy=0.983, loss=0.0365]\n"
          ]
        },
        {
          "name": "stdout",
          "output_type": "stream",
          "text": [
            "Valid: Loss = 0.4672, Acc = 0.9091\n",
            "\n"
          ]
        },
        {
          "name": "stderr",
          "output_type": "stream",
          "text": [
            "Epoch 80: 100%|██████████| 29/29 [00:01<00:00, 21.37batch/s, accuracy=0.984, loss=0.0354]\n"
          ]
        },
        {
          "name": "stdout",
          "output_type": "stream",
          "text": [
            "Valid: Loss = 0.4807, Acc = 0.9101\n",
            "\n"
          ]
        },
        {
          "name": "stderr",
          "output_type": "stream",
          "text": [
            "Epoch 81: 100%|██████████| 29/29 [00:01<00:00, 21.42batch/s, accuracy=0.982, loss=0.0388]\n"
          ]
        },
        {
          "name": "stdout",
          "output_type": "stream",
          "text": [
            "Valid: Loss = 0.4747, Acc = 0.9101\n",
            "\n"
          ]
        },
        {
          "name": "stderr",
          "output_type": "stream",
          "text": [
            "Epoch 82: 100%|██████████| 29/29 [00:01<00:00, 21.61batch/s, accuracy=0.981, loss=0.0368]\n"
          ]
        },
        {
          "name": "stdout",
          "output_type": "stream",
          "text": [
            "Valid: Loss = 0.4734, Acc = 0.9131\n",
            "\n"
          ]
        },
        {
          "name": "stderr",
          "output_type": "stream",
          "text": [
            "Epoch 83: 100%|██████████| 29/29 [00:01<00:00, 21.32batch/s, accuracy=0.982, loss=0.0409]\n"
          ]
        },
        {
          "name": "stdout",
          "output_type": "stream",
          "text": [
            "Valid: Loss = 0.4619, Acc = 0.9169\n",
            "\n"
          ]
        },
        {
          "name": "stderr",
          "output_type": "stream",
          "text": [
            "Epoch 84: 100%|██████████| 29/29 [00:01<00:00, 21.32batch/s, accuracy=0.981, loss=0.0418]\n"
          ]
        },
        {
          "name": "stdout",
          "output_type": "stream",
          "text": [
            "Valid: Loss = 0.454, Acc = 0.9104\n",
            "\n"
          ]
        },
        {
          "name": "stderr",
          "output_type": "stream",
          "text": [
            "Epoch 85: 100%|██████████| 29/29 [00:01<00:00, 21.43batch/s, accuracy=0.982, loss=0.0382]\n"
          ]
        },
        {
          "name": "stdout",
          "output_type": "stream",
          "text": [
            "Valid: Loss = 0.4572, Acc = 0.9155\n",
            "\n"
          ]
        },
        {
          "name": "stderr",
          "output_type": "stream",
          "text": [
            "Epoch 86: 100%|██████████| 29/29 [00:01<00:00, 21.41batch/s, accuracy=0.984, loss=0.0345]\n"
          ]
        },
        {
          "name": "stdout",
          "output_type": "stream",
          "text": [
            "Valid: Loss = 0.4659, Acc = 0.9121\n",
            "\n"
          ]
        },
        {
          "name": "stderr",
          "output_type": "stream",
          "text": [
            "Epoch 87: 100%|██████████| 29/29 [00:01<00:00, 21.46batch/s, accuracy=0.985, loss=0.0338]\n"
          ]
        },
        {
          "name": "stdout",
          "output_type": "stream",
          "text": [
            "Valid: Loss = 0.4698, Acc = 0.9097\n",
            "\n"
          ]
        },
        {
          "name": "stderr",
          "output_type": "stream",
          "text": [
            "Epoch 88: 100%|██████████| 29/29 [00:01<00:00, 21.30batch/s, accuracy=0.985, loss=0.0336]\n"
          ]
        },
        {
          "name": "stdout",
          "output_type": "stream",
          "text": [
            "Valid: Loss = 0.4675, Acc = 0.9111\n",
            "\n"
          ]
        },
        {
          "name": "stderr",
          "output_type": "stream",
          "text": [
            "Epoch 89: 100%|██████████| 29/29 [00:01<00:00, 21.53batch/s, accuracy=0.983, loss=0.036]\n"
          ]
        },
        {
          "name": "stdout",
          "output_type": "stream",
          "text": [
            "Valid: Loss = 0.4695, Acc = 0.9087\n",
            "\n"
          ]
        },
        {
          "name": "stderr",
          "output_type": "stream",
          "text": [
            "Epoch 90: 100%|██████████| 29/29 [00:01<00:00, 21.39batch/s, accuracy=0.984, loss=0.0354]\n"
          ]
        },
        {
          "name": "stdout",
          "output_type": "stream",
          "text": [
            "Valid: Loss = 0.4672, Acc = 0.9148\n",
            "\n"
          ]
        },
        {
          "name": "stderr",
          "output_type": "stream",
          "text": [
            "Epoch 91: 100%|██████████| 29/29 [00:01<00:00, 21.49batch/s, accuracy=0.983, loss=0.0361]\n"
          ]
        },
        {
          "name": "stdout",
          "output_type": "stream",
          "text": [
            "Valid: Loss = 0.475, Acc = 0.906\n",
            "\n"
          ]
        },
        {
          "name": "stderr",
          "output_type": "stream",
          "text": [
            "Epoch 92: 100%|██████████| 29/29 [00:01<00:00, 21.25batch/s, accuracy=0.982, loss=0.0378]\n"
          ]
        },
        {
          "name": "stdout",
          "output_type": "stream",
          "text": [
            "Valid: Loss = 0.4737, Acc = 0.9118\n",
            "\n"
          ]
        },
        {
          "name": "stderr",
          "output_type": "stream",
          "text": [
            "Epoch 93: 100%|██████████| 29/29 [00:01<00:00, 21.40batch/s, accuracy=0.983, loss=0.034]\n"
          ]
        },
        {
          "name": "stdout",
          "output_type": "stream",
          "text": [
            "Valid: Loss = 0.4757, Acc = 0.9114\n",
            "\n"
          ]
        },
        {
          "name": "stderr",
          "output_type": "stream",
          "text": [
            "Epoch 94: 100%|██████████| 29/29 [00:01<00:00, 20.05batch/s, accuracy=0.984, loss=0.0376]\n"
          ]
        },
        {
          "name": "stdout",
          "output_type": "stream",
          "text": [
            "Valid: Loss = 0.473, Acc = 0.9087\n",
            "\n"
          ]
        },
        {
          "name": "stderr",
          "output_type": "stream",
          "text": [
            "Epoch 95: 100%|██████████| 29/29 [00:01<00:00, 21.22batch/s, accuracy=0.983, loss=0.0354]\n"
          ]
        },
        {
          "name": "stdout",
          "output_type": "stream",
          "text": [
            "Valid: Loss = 0.4573, Acc = 0.9128\n",
            "\n"
          ]
        },
        {
          "name": "stderr",
          "output_type": "stream",
          "text": [
            "Epoch 96: 100%|██████████| 29/29 [00:01<00:00, 21.48batch/s, accuracy=0.982, loss=0.0376]\n"
          ]
        },
        {
          "name": "stdout",
          "output_type": "stream",
          "text": [
            "Valid: Loss = 0.4574, Acc = 0.9145\n",
            "\n"
          ]
        },
        {
          "name": "stderr",
          "output_type": "stream",
          "text": [
            "Epoch 97: 100%|██████████| 29/29 [00:01<00:00, 21.35batch/s, accuracy=0.984, loss=0.032]\n"
          ]
        },
        {
          "name": "stdout",
          "output_type": "stream",
          "text": [
            "Valid: Loss = 0.4565, Acc = 0.9138\n",
            "\n"
          ]
        },
        {
          "name": "stderr",
          "output_type": "stream",
          "text": [
            "Epoch 98: 100%|██████████| 29/29 [00:01<00:00, 21.17batch/s, accuracy=0.985, loss=0.0347]\n"
          ]
        },
        {
          "name": "stdout",
          "output_type": "stream",
          "text": [
            "Valid: Loss = 0.4703, Acc = 0.9094\n",
            "\n"
          ]
        },
        {
          "name": "stderr",
          "output_type": "stream",
          "text": [
            "Epoch 99: 100%|██████████| 29/29 [00:01<00:00, 21.39batch/s, accuracy=0.981, loss=0.039]\n"
          ]
        },
        {
          "name": "stdout",
          "output_type": "stream",
          "text": [
            "Valid: Loss = 0.456, Acc = 0.9108\n",
            "\n"
          ]
        },
        {
          "name": "stderr",
          "output_type": "stream",
          "text": [
            "Epoch 100: 100%|██████████| 29/29 [00:01<00:00, 21.27batch/s, accuracy=0.982, loss=0.0371]\n"
          ]
        },
        {
          "name": "stdout",
          "output_type": "stream",
          "text": [
            "Valid: Loss = 0.4642, Acc = 0.9111\n",
            "\n"
          ]
        },
        {
          "name": "stderr",
          "output_type": "stream",
          "text": [
            "Epoch 101: 100%|██████████| 29/29 [00:01<00:00, 21.01batch/s, accuracy=0.983, loss=0.0364]\n"
          ]
        },
        {
          "name": "stdout",
          "output_type": "stream",
          "text": [
            "Valid: Loss = 0.4661, Acc = 0.9114\n",
            "\n"
          ]
        },
        {
          "name": "stderr",
          "output_type": "stream",
          "text": [
            "Epoch 102: 100%|██████████| 29/29 [00:01<00:00, 21.30batch/s, accuracy=0.981, loss=0.0391]\n"
          ]
        },
        {
          "name": "stdout",
          "output_type": "stream",
          "text": [
            "Valid: Loss = 0.4584, Acc = 0.9125\n",
            "\n"
          ]
        },
        {
          "name": "stderr",
          "output_type": "stream",
          "text": [
            "Epoch 103: 100%|██████████| 29/29 [00:01<00:00, 21.14batch/s, accuracy=0.983, loss=0.0338]\n"
          ]
        },
        {
          "name": "stdout",
          "output_type": "stream",
          "text": [
            "Valid: Loss = 0.4669, Acc = 0.9104\n",
            "\n"
          ]
        },
        {
          "name": "stderr",
          "output_type": "stream",
          "text": [
            "Epoch 104: 100%|██████████| 29/29 [00:01<00:00, 21.11batch/s, accuracy=0.983, loss=0.0415]\n"
          ]
        },
        {
          "name": "stdout",
          "output_type": "stream",
          "text": [
            "Valid: Loss = 0.4693, Acc = 0.9091\n",
            "\n"
          ]
        },
        {
          "name": "stderr",
          "output_type": "stream",
          "text": [
            "Epoch 105: 100%|██████████| 29/29 [00:01<00:00, 21.33batch/s, accuracy=0.984, loss=0.0345]\n"
          ]
        },
        {
          "name": "stdout",
          "output_type": "stream",
          "text": [
            "Valid: Loss = 0.468, Acc = 0.9141\n",
            "\n"
          ]
        },
        {
          "name": "stderr",
          "output_type": "stream",
          "text": [
            "Epoch 106: 100%|██████████| 29/29 [00:01<00:00, 21.35batch/s, accuracy=0.986, loss=0.0317]\n"
          ]
        },
        {
          "name": "stdout",
          "output_type": "stream",
          "text": [
            "Valid: Loss = 0.4694, Acc = 0.9128\n",
            "\n"
          ]
        },
        {
          "name": "stderr",
          "output_type": "stream",
          "text": [
            "Epoch 107: 100%|██████████| 29/29 [00:01<00:00, 21.37batch/s, accuracy=0.985, loss=0.0331]\n"
          ]
        },
        {
          "name": "stdout",
          "output_type": "stream",
          "text": [
            "Valid: Loss = 0.467, Acc = 0.9148\n",
            "\n"
          ]
        },
        {
          "name": "stderr",
          "output_type": "stream",
          "text": [
            "Epoch 108: 100%|██████████| 29/29 [00:01<00:00, 21.21batch/s, accuracy=0.985, loss=0.0327]\n"
          ]
        },
        {
          "name": "stdout",
          "output_type": "stream",
          "text": [
            "Valid: Loss = 0.4662, Acc = 0.9135\n",
            "\n"
          ]
        },
        {
          "name": "stderr",
          "output_type": "stream",
          "text": [
            "Epoch 109: 100%|██████████| 29/29 [00:01<00:00, 20.58batch/s, accuracy=0.986, loss=0.0325]\n"
          ]
        },
        {
          "name": "stdout",
          "output_type": "stream",
          "text": [
            "Valid: Loss = 0.4765, Acc = 0.9128\n",
            "\n"
          ]
        },
        {
          "name": "stderr",
          "output_type": "stream",
          "text": [
            "Epoch 110: 100%|██████████| 29/29 [00:01<00:00, 20.82batch/s, accuracy=0.985, loss=0.0346]\n"
          ]
        },
        {
          "name": "stdout",
          "output_type": "stream",
          "text": [
            "Valid: Loss = 0.4776, Acc = 0.9067\n",
            "\n"
          ]
        },
        {
          "name": "stderr",
          "output_type": "stream",
          "text": [
            "Epoch 111: 100%|██████████| 29/29 [00:01<00:00, 20.49batch/s, accuracy=0.986, loss=0.0313]\n"
          ]
        },
        {
          "name": "stdout",
          "output_type": "stream",
          "text": [
            "Valid: Loss = 0.4771, Acc = 0.9104\n",
            "\n"
          ]
        },
        {
          "name": "stderr",
          "output_type": "stream",
          "text": [
            "Epoch 112: 100%|██████████| 29/29 [00:01<00:00, 21.43batch/s, accuracy=0.988, loss=0.0283]\n"
          ]
        },
        {
          "name": "stdout",
          "output_type": "stream",
          "text": [
            "Valid: Loss = 0.4908, Acc = 0.9111\n",
            "\n"
          ]
        },
        {
          "name": "stderr",
          "output_type": "stream",
          "text": [
            "Epoch 113: 100%|██████████| 29/29 [00:01<00:00, 21.18batch/s, accuracy=0.983, loss=0.0355]\n"
          ]
        },
        {
          "name": "stdout",
          "output_type": "stream",
          "text": [
            "Valid: Loss = 0.4705, Acc = 0.9125\n",
            "\n"
          ]
        },
        {
          "name": "stderr",
          "output_type": "stream",
          "text": [
            "Epoch 114: 100%|██████████| 29/29 [00:01<00:00, 21.24batch/s, accuracy=0.984, loss=0.0398]\n"
          ]
        },
        {
          "name": "stdout",
          "output_type": "stream",
          "text": [
            "Valid: Loss = 0.4788, Acc = 0.9114\n",
            "\n"
          ]
        },
        {
          "name": "stderr",
          "output_type": "stream",
          "text": [
            "Epoch 115: 100%|██████████| 29/29 [00:01<00:00, 21.54batch/s, accuracy=0.983, loss=0.0359]\n"
          ]
        },
        {
          "name": "stdout",
          "output_type": "stream",
          "text": [
            "Valid: Loss = 0.4748, Acc = 0.9091\n",
            "\n"
          ]
        },
        {
          "name": "stderr",
          "output_type": "stream",
          "text": [
            "Epoch 116: 100%|██████████| 29/29 [00:01<00:00, 21.51batch/s, accuracy=0.986, loss=0.0339]\n"
          ]
        },
        {
          "name": "stdout",
          "output_type": "stream",
          "text": [
            "Valid: Loss = 0.4756, Acc = 0.9077\n",
            "\n"
          ]
        },
        {
          "name": "stderr",
          "output_type": "stream",
          "text": [
            "Epoch 117: 100%|██████████| 29/29 [00:01<00:00, 20.16batch/s, accuracy=0.986, loss=0.0332]\n"
          ]
        },
        {
          "name": "stdout",
          "output_type": "stream",
          "text": [
            "Valid: Loss = 0.4709, Acc = 0.9148\n",
            "\n"
          ]
        },
        {
          "name": "stderr",
          "output_type": "stream",
          "text": [
            "Epoch 118: 100%|██████████| 29/29 [00:01<00:00, 21.35batch/s, accuracy=0.985, loss=0.0347]\n"
          ]
        },
        {
          "name": "stdout",
          "output_type": "stream",
          "text": [
            "Valid: Loss = 0.4645, Acc = 0.9155\n",
            "\n"
          ]
        },
        {
          "name": "stderr",
          "output_type": "stream",
          "text": [
            "Epoch 119: 100%|██████████| 29/29 [00:01<00:00, 21.23batch/s, accuracy=0.982, loss=0.0387]\n"
          ]
        },
        {
          "name": "stdout",
          "output_type": "stream",
          "text": [
            "Valid: Loss = 0.4681, Acc = 0.9152\n",
            "\n"
          ]
        },
        {
          "name": "stderr",
          "output_type": "stream",
          "text": [
            "Epoch 120: 100%|██████████| 29/29 [00:01<00:00, 21.40batch/s, accuracy=0.986, loss=0.0306]\n"
          ]
        },
        {
          "name": "stdout",
          "output_type": "stream",
          "text": [
            "Valid: Loss = 0.4822, Acc = 0.9104\n",
            "\n"
          ]
        },
        {
          "name": "stderr",
          "output_type": "stream",
          "text": [
            "Epoch 121: 100%|██████████| 29/29 [00:01<00:00, 21.53batch/s, accuracy=0.985, loss=0.0416]\n"
          ]
        },
        {
          "name": "stdout",
          "output_type": "stream",
          "text": [
            "Valid: Loss = 0.4684, Acc = 0.9087\n",
            "\n"
          ]
        },
        {
          "name": "stderr",
          "output_type": "stream",
          "text": [
            "Epoch 122: 100%|██████████| 29/29 [00:01<00:00, 21.21batch/s, accuracy=0.985, loss=0.0324]\n"
          ]
        },
        {
          "name": "stdout",
          "output_type": "stream",
          "text": [
            "Valid: Loss = 0.4834, Acc = 0.9091\n",
            "\n"
          ]
        },
        {
          "name": "stderr",
          "output_type": "stream",
          "text": [
            "Epoch 123: 100%|██████████| 29/29 [00:01<00:00, 21.26batch/s, accuracy=0.987, loss=0.0323]\n"
          ]
        },
        {
          "name": "stdout",
          "output_type": "stream",
          "text": [
            "Valid: Loss = 0.4819, Acc = 0.9077\n",
            "\n"
          ]
        },
        {
          "name": "stderr",
          "output_type": "stream",
          "text": [
            "Epoch 124: 100%|██████████| 29/29 [00:01<00:00, 21.21batch/s, accuracy=0.986, loss=0.0315]\n"
          ]
        },
        {
          "name": "stdout",
          "output_type": "stream",
          "text": [
            "Valid: Loss = 0.4741, Acc = 0.9087\n",
            "\n"
          ]
        },
        {
          "name": "stderr",
          "output_type": "stream",
          "text": [
            "Epoch 125: 100%|██████████| 29/29 [00:01<00:00, 21.35batch/s, accuracy=0.983, loss=0.0352]\n"
          ]
        },
        {
          "name": "stdout",
          "output_type": "stream",
          "text": [
            "Valid: Loss = 0.4759, Acc = 0.9101\n",
            "\n"
          ]
        },
        {
          "name": "stderr",
          "output_type": "stream",
          "text": [
            "Epoch 126: 100%|██████████| 29/29 [00:01<00:00, 21.34batch/s, accuracy=0.982, loss=0.0417]\n"
          ]
        },
        {
          "name": "stdout",
          "output_type": "stream",
          "text": [
            "Valid: Loss = 0.4781, Acc = 0.9084\n",
            "\n"
          ]
        },
        {
          "name": "stderr",
          "output_type": "stream",
          "text": [
            "Epoch 127: 100%|██████████| 29/29 [00:01<00:00, 21.34batch/s, accuracy=0.985, loss=0.0348]\n"
          ]
        },
        {
          "name": "stdout",
          "output_type": "stream",
          "text": [
            "Valid: Loss = 0.4905, Acc = 0.9046\n",
            "\n"
          ]
        },
        {
          "name": "stderr",
          "output_type": "stream",
          "text": [
            "Epoch 128: 100%|██████████| 29/29 [00:01<00:00, 21.62batch/s, accuracy=0.987, loss=0.0309]\n"
          ]
        },
        {
          "name": "stdout",
          "output_type": "stream",
          "text": [
            "Valid: Loss = 0.481, Acc = 0.9114\n",
            "\n"
          ]
        },
        {
          "name": "stderr",
          "output_type": "stream",
          "text": [
            "Epoch 129: 100%|██████████| 29/29 [00:01<00:00, 21.11batch/s, accuracy=0.982, loss=0.0374]\n"
          ]
        },
        {
          "name": "stdout",
          "output_type": "stream",
          "text": [
            "Valid: Loss = 0.4859, Acc = 0.9097\n",
            "\n"
          ]
        },
        {
          "name": "stderr",
          "output_type": "stream",
          "text": [
            "Epoch 130: 100%|██████████| 29/29 [00:01<00:00, 21.34batch/s, accuracy=0.984, loss=0.0373]\n"
          ]
        },
        {
          "name": "stdout",
          "output_type": "stream",
          "text": [
            "Valid: Loss = 0.4801, Acc = 0.9152\n",
            "\n"
          ]
        },
        {
          "name": "stderr",
          "output_type": "stream",
          "text": [
            "Epoch 131: 100%|██████████| 29/29 [00:01<00:00, 21.27batch/s, accuracy=0.986, loss=0.0324]\n"
          ]
        },
        {
          "name": "stdout",
          "output_type": "stream",
          "text": [
            "Valid: Loss = 0.4739, Acc = 0.9094\n",
            "\n"
          ]
        },
        {
          "name": "stderr",
          "output_type": "stream",
          "text": [
            "Epoch 132: 100%|██████████| 29/29 [00:01<00:00, 21.26batch/s, accuracy=0.986, loss=0.0339]\n"
          ]
        },
        {
          "name": "stdout",
          "output_type": "stream",
          "text": [
            "Valid: Loss = 0.4737, Acc = 0.9111\n",
            "\n"
          ]
        },
        {
          "name": "stderr",
          "output_type": "stream",
          "text": [
            "Epoch 133: 100%|██████████| 29/29 [00:01<00:00, 21.43batch/s, accuracy=0.983, loss=0.037]\n"
          ]
        },
        {
          "name": "stdout",
          "output_type": "stream",
          "text": [
            "Valid: Loss = 0.4767, Acc = 0.9135\n",
            "\n"
          ]
        },
        {
          "name": "stderr",
          "output_type": "stream",
          "text": [
            "Epoch 134: 100%|██████████| 29/29 [00:01<00:00, 21.33batch/s, accuracy=0.986, loss=0.0317]\n"
          ]
        },
        {
          "name": "stdout",
          "output_type": "stream",
          "text": [
            "Valid: Loss = 0.4923, Acc = 0.9074\n",
            "\n"
          ]
        },
        {
          "name": "stderr",
          "output_type": "stream",
          "text": [
            "Epoch 135: 100%|██████████| 29/29 [00:01<00:00, 21.16batch/s, accuracy=0.985, loss=0.032]\n"
          ]
        },
        {
          "name": "stdout",
          "output_type": "stream",
          "text": [
            "Valid: Loss = 0.4878, Acc = 0.9118\n",
            "\n"
          ]
        },
        {
          "name": "stderr",
          "output_type": "stream",
          "text": [
            "Epoch 136: 100%|██████████| 29/29 [00:01<00:00, 21.14batch/s, accuracy=0.987, loss=0.0291]\n"
          ]
        },
        {
          "name": "stdout",
          "output_type": "stream",
          "text": [
            "Valid: Loss = 0.4869, Acc = 0.9104\n",
            "\n"
          ]
        },
        {
          "name": "stderr",
          "output_type": "stream",
          "text": [
            "Epoch 137: 100%|██████████| 29/29 [00:01<00:00, 20.99batch/s, accuracy=0.985, loss=0.0379]\n"
          ]
        },
        {
          "name": "stdout",
          "output_type": "stream",
          "text": [
            "Valid: Loss = 0.4844, Acc = 0.9094\n",
            "\n"
          ]
        },
        {
          "name": "stderr",
          "output_type": "stream",
          "text": [
            "Epoch 138: 100%|██████████| 29/29 [00:01<00:00, 21.26batch/s, accuracy=0.984, loss=0.0331]\n"
          ]
        },
        {
          "name": "stdout",
          "output_type": "stream",
          "text": [
            "Valid: Loss = 0.4875, Acc = 0.9074\n",
            "\n"
          ]
        },
        {
          "name": "stderr",
          "output_type": "stream",
          "text": [
            "Epoch 139: 100%|██████████| 29/29 [00:01<00:00, 21.06batch/s, accuracy=0.987, loss=0.0313]\n"
          ]
        },
        {
          "name": "stdout",
          "output_type": "stream",
          "text": [
            "Valid: Loss = 0.48, Acc = 0.9084\n",
            "\n"
          ]
        },
        {
          "name": "stderr",
          "output_type": "stream",
          "text": [
            "Epoch 140: 100%|██████████| 29/29 [00:01<00:00, 19.87batch/s, accuracy=0.987, loss=0.0304]\n"
          ]
        },
        {
          "name": "stdout",
          "output_type": "stream",
          "text": [
            "Valid: Loss = 0.488, Acc = 0.9118\n",
            "\n"
          ]
        },
        {
          "name": "stderr",
          "output_type": "stream",
          "text": [
            "Epoch 141: 100%|██████████| 29/29 [00:01<00:00, 21.40batch/s, accuracy=0.985, loss=0.0333]\n"
          ]
        },
        {
          "name": "stdout",
          "output_type": "stream",
          "text": [
            "Valid: Loss = 0.4843, Acc = 0.9141\n",
            "\n"
          ]
        },
        {
          "name": "stderr",
          "output_type": "stream",
          "text": [
            "Epoch 142: 100%|██████████| 29/29 [00:01<00:00, 21.13batch/s, accuracy=0.983, loss=0.0413]\n"
          ]
        },
        {
          "name": "stdout",
          "output_type": "stream",
          "text": [
            "Valid: Loss = 0.4791, Acc = 0.907\n",
            "\n"
          ]
        },
        {
          "name": "stderr",
          "output_type": "stream",
          "text": [
            "Epoch 143: 100%|██████████| 29/29 [00:01<00:00, 21.28batch/s, accuracy=0.985, loss=0.0362]\n"
          ]
        },
        {
          "name": "stdout",
          "output_type": "stream",
          "text": [
            "Valid: Loss = 0.4946, Acc = 0.9063\n",
            "\n"
          ]
        },
        {
          "name": "stderr",
          "output_type": "stream",
          "text": [
            "Epoch 144: 100%|██████████| 29/29 [00:01<00:00, 21.31batch/s, accuracy=0.985, loss=0.032]\n"
          ]
        },
        {
          "name": "stdout",
          "output_type": "stream",
          "text": [
            "Valid: Loss = 0.4811, Acc = 0.9131\n",
            "\n"
          ]
        },
        {
          "name": "stderr",
          "output_type": "stream",
          "text": [
            "Epoch 145: 100%|██████████| 29/29 [00:01<00:00, 21.47batch/s, accuracy=0.988, loss=0.0295]\n"
          ]
        },
        {
          "name": "stdout",
          "output_type": "stream",
          "text": [
            "Valid: Loss = 0.4967, Acc = 0.906\n",
            "\n"
          ]
        },
        {
          "name": "stderr",
          "output_type": "stream",
          "text": [
            "Epoch 146: 100%|██████████| 29/29 [00:01<00:00, 21.40batch/s, accuracy=0.985, loss=0.0354]\n"
          ]
        },
        {
          "name": "stdout",
          "output_type": "stream",
          "text": [
            "Valid: Loss = 0.4793, Acc = 0.9104\n",
            "\n"
          ]
        },
        {
          "name": "stderr",
          "output_type": "stream",
          "text": [
            "Epoch 147: 100%|██████████| 29/29 [00:01<00:00, 21.23batch/s, accuracy=0.986, loss=0.0326]\n"
          ]
        },
        {
          "name": "stdout",
          "output_type": "stream",
          "text": [
            "Valid: Loss = 0.4743, Acc = 0.9097\n",
            "\n"
          ]
        },
        {
          "name": "stderr",
          "output_type": "stream",
          "text": [
            "Epoch 148: 100%|██████████| 29/29 [00:01<00:00, 21.19batch/s, accuracy=0.982, loss=0.038]\n"
          ]
        },
        {
          "name": "stdout",
          "output_type": "stream",
          "text": [
            "Valid: Loss = 0.491, Acc = 0.9114\n",
            "\n"
          ]
        },
        {
          "name": "stderr",
          "output_type": "stream",
          "text": [
            "Epoch 149: 100%|██████████| 29/29 [00:01<00:00, 21.31batch/s, accuracy=0.987, loss=0.0305]\n"
          ]
        },
        {
          "name": "stdout",
          "output_type": "stream",
          "text": [
            "Valid: Loss = 0.4686, Acc = 0.9162\n",
            "\n"
          ]
        },
        {
          "name": "stderr",
          "output_type": "stream",
          "text": [
            "Epoch 150: 100%|██████████| 29/29 [00:01<00:00, 21.29batch/s, accuracy=0.988, loss=0.0286]\n"
          ]
        },
        {
          "name": "stdout",
          "output_type": "stream",
          "text": [
            "Valid: Loss = 0.4643, Acc = 0.9125\n",
            "\n"
          ]
        },
        {
          "name": "stderr",
          "output_type": "stream",
          "text": [
            "Epoch 151: 100%|██████████| 29/29 [00:01<00:00, 21.05batch/s, accuracy=0.986, loss=0.0306]\n"
          ]
        },
        {
          "name": "stdout",
          "output_type": "stream",
          "text": [
            "Valid: Loss = 0.4808, Acc = 0.9091\n",
            "\n"
          ]
        },
        {
          "name": "stderr",
          "output_type": "stream",
          "text": [
            "Epoch 152: 100%|██████████| 29/29 [00:01<00:00, 21.17batch/s, accuracy=0.987, loss=0.0287]\n"
          ]
        },
        {
          "name": "stdout",
          "output_type": "stream",
          "text": [
            "Valid: Loss = 0.4815, Acc = 0.9118\n",
            "\n"
          ]
        },
        {
          "name": "stderr",
          "output_type": "stream",
          "text": [
            "Epoch 153: 100%|██████████| 29/29 [00:01<00:00, 21.33batch/s, accuracy=0.986, loss=0.0315]\n"
          ]
        },
        {
          "name": "stdout",
          "output_type": "stream",
          "text": [
            "Valid: Loss = 0.4781, Acc = 0.9094\n",
            "\n"
          ]
        },
        {
          "name": "stderr",
          "output_type": "stream",
          "text": [
            "Epoch 154: 100%|██████████| 29/29 [00:01<00:00, 21.25batch/s, accuracy=0.986, loss=0.0326]\n"
          ]
        },
        {
          "name": "stdout",
          "output_type": "stream",
          "text": [
            "Valid: Loss = 0.4868, Acc = 0.9114\n",
            "\n"
          ]
        },
        {
          "name": "stderr",
          "output_type": "stream",
          "text": [
            "Epoch 155: 100%|██████████| 29/29 [00:01<00:00, 21.19batch/s, accuracy=0.985, loss=0.0316]\n"
          ]
        },
        {
          "name": "stdout",
          "output_type": "stream",
          "text": [
            "Valid: Loss = 0.4768, Acc = 0.9091\n",
            "\n"
          ]
        },
        {
          "name": "stderr",
          "output_type": "stream",
          "text": [
            "Epoch 156: 100%|██████████| 29/29 [00:01<00:00, 21.47batch/s, accuracy=0.985, loss=0.035]\n"
          ]
        },
        {
          "name": "stdout",
          "output_type": "stream",
          "text": [
            "Valid: Loss = 0.4773, Acc = 0.9087\n",
            "\n"
          ]
        },
        {
          "name": "stderr",
          "output_type": "stream",
          "text": [
            "Epoch 157: 100%|██████████| 29/29 [00:01<00:00, 21.33batch/s, accuracy=0.986, loss=0.0316]\n"
          ]
        },
        {
          "name": "stdout",
          "output_type": "stream",
          "text": [
            "Valid: Loss = 0.4742, Acc = 0.9135\n",
            "\n"
          ]
        },
        {
          "name": "stderr",
          "output_type": "stream",
          "text": [
            "Epoch 158: 100%|██████████| 29/29 [00:01<00:00, 21.27batch/s, accuracy=0.984, loss=0.0376]\n"
          ]
        },
        {
          "name": "stdout",
          "output_type": "stream",
          "text": [
            "Valid: Loss = 0.4816, Acc = 0.9101\n",
            "\n"
          ]
        },
        {
          "name": "stderr",
          "output_type": "stream",
          "text": [
            "Epoch 159: 100%|██████████| 29/29 [00:01<00:00, 21.27batch/s, accuracy=0.984, loss=0.034]\n"
          ]
        },
        {
          "name": "stdout",
          "output_type": "stream",
          "text": [
            "Valid: Loss = 0.4721, Acc = 0.9111\n",
            "\n"
          ]
        },
        {
          "name": "stderr",
          "output_type": "stream",
          "text": [
            "Epoch 160: 100%|██████████| 29/29 [00:01<00:00, 21.33batch/s, accuracy=0.986, loss=0.0302]\n"
          ]
        },
        {
          "name": "stdout",
          "output_type": "stream",
          "text": [
            "Valid: Loss = 0.4887, Acc = 0.9118\n",
            "\n"
          ]
        },
        {
          "name": "stderr",
          "output_type": "stream",
          "text": [
            "Epoch 161: 100%|██████████| 29/29 [00:01<00:00, 21.25batch/s, accuracy=0.984, loss=0.0394]\n"
          ]
        },
        {
          "name": "stdout",
          "output_type": "stream",
          "text": [
            "Valid: Loss = 0.4668, Acc = 0.9158\n",
            "\n"
          ]
        },
        {
          "name": "stderr",
          "output_type": "stream",
          "text": [
            "Epoch 162: 100%|██████████| 29/29 [00:01<00:00, 21.23batch/s, accuracy=0.985, loss=0.0357]\n"
          ]
        },
        {
          "name": "stdout",
          "output_type": "stream",
          "text": [
            "Valid: Loss = 0.4597, Acc = 0.9145\n",
            "\n"
          ]
        },
        {
          "name": "stderr",
          "output_type": "stream",
          "text": [
            "Epoch 163: 100%|██████████| 29/29 [00:01<00:00, 20.09batch/s, accuracy=0.984, loss=0.0404]\n"
          ]
        },
        {
          "name": "stdout",
          "output_type": "stream",
          "text": [
            "Valid: Loss = 0.4755, Acc = 0.9033\n",
            "\n"
          ]
        },
        {
          "name": "stderr",
          "output_type": "stream",
          "text": [
            "Epoch 164: 100%|██████████| 29/29 [00:01<00:00, 21.33batch/s, accuracy=0.982, loss=0.0361]\n"
          ]
        },
        {
          "name": "stdout",
          "output_type": "stream",
          "text": [
            "Valid: Loss = 0.4692, Acc = 0.9053\n",
            "\n"
          ]
        },
        {
          "name": "stderr",
          "output_type": "stream",
          "text": [
            "Epoch 165: 100%|██████████| 29/29 [00:01<00:00, 21.30batch/s, accuracy=0.983, loss=0.0334]\n"
          ]
        },
        {
          "name": "stdout",
          "output_type": "stream",
          "text": [
            "Valid: Loss = 0.4661, Acc = 0.906\n",
            "\n"
          ]
        },
        {
          "name": "stderr",
          "output_type": "stream",
          "text": [
            "Epoch 166: 100%|██████████| 29/29 [00:01<00:00, 20.67batch/s, accuracy=0.986, loss=0.0304]\n"
          ]
        },
        {
          "name": "stdout",
          "output_type": "stream",
          "text": [
            "Valid: Loss = 0.4535, Acc = 0.9094\n",
            "\n"
          ]
        },
        {
          "name": "stderr",
          "output_type": "stream",
          "text": [
            "Epoch 167: 100%|██████████| 29/29 [00:01<00:00, 20.58batch/s, accuracy=0.988, loss=0.0307]\n"
          ]
        },
        {
          "name": "stdout",
          "output_type": "stream",
          "text": [
            "Valid: Loss = 0.4575, Acc = 0.908\n",
            "\n"
          ]
        },
        {
          "name": "stderr",
          "output_type": "stream",
          "text": [
            "Epoch 168: 100%|██████████| 29/29 [00:01<00:00, 20.42batch/s, accuracy=0.984, loss=0.0362]\n"
          ]
        },
        {
          "name": "stdout",
          "output_type": "stream",
          "text": [
            "Valid: Loss = 0.4608, Acc = 0.9053\n",
            "\n"
          ]
        },
        {
          "name": "stderr",
          "output_type": "stream",
          "text": [
            "Epoch 169: 100%|██████████| 29/29 [00:01<00:00, 21.46batch/s, accuracy=0.985, loss=0.0317]\n"
          ]
        },
        {
          "name": "stdout",
          "output_type": "stream",
          "text": [
            "Valid: Loss = 0.4506, Acc = 0.9084\n",
            "\n"
          ]
        },
        {
          "name": "stderr",
          "output_type": "stream",
          "text": [
            "Epoch 170: 100%|██████████| 29/29 [00:01<00:00, 21.26batch/s, accuracy=0.984, loss=0.0365]\n"
          ]
        },
        {
          "name": "stdout",
          "output_type": "stream",
          "text": [
            "Valid: Loss = 0.4634, Acc = 0.908\n",
            "\n"
          ]
        },
        {
          "name": "stderr",
          "output_type": "stream",
          "text": [
            "Epoch 171: 100%|██████████| 29/29 [00:01<00:00, 21.18batch/s, accuracy=0.985, loss=0.0304]\n"
          ]
        },
        {
          "name": "stdout",
          "output_type": "stream",
          "text": [
            "Valid: Loss = 0.4639, Acc = 0.9101\n",
            "\n"
          ]
        },
        {
          "name": "stderr",
          "output_type": "stream",
          "text": [
            "Epoch 172: 100%|██████████| 29/29 [00:01<00:00, 21.11batch/s, accuracy=0.986, loss=0.0309]\n"
          ]
        },
        {
          "name": "stdout",
          "output_type": "stream",
          "text": [
            "Valid: Loss = 0.4783, Acc = 0.906\n",
            "\n"
          ]
        },
        {
          "name": "stderr",
          "output_type": "stream",
          "text": [
            "Epoch 173: 100%|██████████| 29/29 [00:01<00:00, 21.19batch/s, accuracy=0.987, loss=0.0294]\n"
          ]
        },
        {
          "name": "stdout",
          "output_type": "stream",
          "text": [
            "Valid: Loss = 0.476, Acc = 0.9091\n",
            "\n"
          ]
        },
        {
          "name": "stderr",
          "output_type": "stream",
          "text": [
            "Epoch 174: 100%|██████████| 29/29 [00:01<00:00, 21.32batch/s, accuracy=0.986, loss=0.0374]\n"
          ]
        },
        {
          "name": "stdout",
          "output_type": "stream",
          "text": [
            "Valid: Loss = 0.4729, Acc = 0.9091\n",
            "\n"
          ]
        },
        {
          "name": "stderr",
          "output_type": "stream",
          "text": [
            "Epoch 175: 100%|██████████| 29/29 [00:01<00:00, 21.09batch/s, accuracy=0.987, loss=0.0298]\n"
          ]
        },
        {
          "name": "stdout",
          "output_type": "stream",
          "text": [
            "Valid: Loss = 0.4625, Acc = 0.9118\n",
            "\n"
          ]
        },
        {
          "name": "stderr",
          "output_type": "stream",
          "text": [
            "Epoch 176: 100%|██████████| 29/29 [00:01<00:00, 20.92batch/s, accuracy=0.987, loss=0.0308]\n"
          ]
        },
        {
          "name": "stdout",
          "output_type": "stream",
          "text": [
            "Valid: Loss = 0.4701, Acc = 0.9158\n",
            "\n"
          ]
        },
        {
          "name": "stderr",
          "output_type": "stream",
          "text": [
            "Epoch 177: 100%|██████████| 29/29 [00:01<00:00, 21.19batch/s, accuracy=0.986, loss=0.0327]\n"
          ]
        },
        {
          "name": "stdout",
          "output_type": "stream",
          "text": [
            "Valid: Loss = 0.4768, Acc = 0.9057\n",
            "\n"
          ]
        },
        {
          "name": "stderr",
          "output_type": "stream",
          "text": [
            "Epoch 178: 100%|██████████| 29/29 [00:01<00:00, 21.43batch/s, accuracy=0.983, loss=0.0413]\n"
          ]
        },
        {
          "name": "stdout",
          "output_type": "stream",
          "text": [
            "Valid: Loss = 0.4651, Acc = 0.9148\n",
            "\n"
          ]
        },
        {
          "name": "stderr",
          "output_type": "stream",
          "text": [
            "Epoch 179: 100%|██████████| 29/29 [00:01<00:00, 21.36batch/s, accuracy=0.988, loss=0.0271]\n"
          ]
        },
        {
          "name": "stdout",
          "output_type": "stream",
          "text": [
            "Valid: Loss = 0.4737, Acc = 0.9087\n",
            "\n"
          ]
        },
        {
          "name": "stderr",
          "output_type": "stream",
          "text": [
            "Epoch 180: 100%|██████████| 29/29 [00:01<00:00, 21.04batch/s, accuracy=0.988, loss=0.0308]\n"
          ]
        },
        {
          "name": "stdout",
          "output_type": "stream",
          "text": [
            "Valid: Loss = 0.4741, Acc = 0.9097\n",
            "\n"
          ]
        },
        {
          "name": "stderr",
          "output_type": "stream",
          "text": [
            "Epoch 181: 100%|██████████| 29/29 [00:01<00:00, 21.05batch/s, accuracy=0.985, loss=0.0336]\n"
          ]
        },
        {
          "name": "stdout",
          "output_type": "stream",
          "text": [
            "Valid: Loss = 0.4711, Acc = 0.9114\n",
            "\n"
          ]
        },
        {
          "name": "stderr",
          "output_type": "stream",
          "text": [
            "Epoch 182: 100%|██████████| 29/29 [00:01<00:00, 21.03batch/s, accuracy=0.984, loss=0.0355]\n"
          ]
        },
        {
          "name": "stdout",
          "output_type": "stream",
          "text": [
            "Valid: Loss = 0.467, Acc = 0.9091\n",
            "\n"
          ]
        },
        {
          "name": "stderr",
          "output_type": "stream",
          "text": [
            "Epoch 183: 100%|██████████| 29/29 [00:01<00:00, 21.52batch/s, accuracy=0.988, loss=0.0287]\n"
          ]
        },
        {
          "name": "stdout",
          "output_type": "stream",
          "text": [
            "Valid: Loss = 0.4573, Acc = 0.9186\n",
            "\n"
          ]
        },
        {
          "name": "stderr",
          "output_type": "stream",
          "text": [
            "Epoch 184: 100%|██████████| 29/29 [00:01<00:00, 21.16batch/s, accuracy=0.983, loss=0.0397]\n"
          ]
        },
        {
          "name": "stdout",
          "output_type": "stream",
          "text": [
            "Valid: Loss = 0.4428, Acc = 0.9138\n",
            "\n"
          ]
        },
        {
          "name": "stderr",
          "output_type": "stream",
          "text": [
            "Epoch 185: 100%|██████████| 29/29 [00:01<00:00, 21.18batch/s, accuracy=0.988, loss=0.0293]\n"
          ]
        },
        {
          "name": "stdout",
          "output_type": "stream",
          "text": [
            "Valid: Loss = 0.4482, Acc = 0.9114\n",
            "\n"
          ]
        },
        {
          "name": "stderr",
          "output_type": "stream",
          "text": [
            "Epoch 186: 100%|██████████| 29/29 [00:01<00:00, 21.16batch/s, accuracy=0.989, loss=0.0285]\n"
          ]
        },
        {
          "name": "stdout",
          "output_type": "stream",
          "text": [
            "Valid: Loss = 0.4672, Acc = 0.9118\n",
            "\n"
          ]
        },
        {
          "name": "stderr",
          "output_type": "stream",
          "text": [
            "Epoch 187: 100%|██████████| 29/29 [00:01<00:00, 21.25batch/s, accuracy=0.987, loss=0.0298]\n"
          ]
        },
        {
          "name": "stdout",
          "output_type": "stream",
          "text": [
            "Valid: Loss = 0.4632, Acc = 0.9135\n",
            "\n"
          ]
        },
        {
          "name": "stderr",
          "output_type": "stream",
          "text": [
            "Epoch 188: 100%|██████████| 29/29 [00:01<00:00, 21.28batch/s, accuracy=0.988, loss=0.0278]\n"
          ]
        },
        {
          "name": "stdout",
          "output_type": "stream",
          "text": [
            "Valid: Loss = 0.4632, Acc = 0.9094\n",
            "\n"
          ]
        },
        {
          "name": "stderr",
          "output_type": "stream",
          "text": [
            "Epoch 189: 100%|██████████| 29/29 [00:01<00:00, 21.14batch/s, accuracy=0.987, loss=0.0312]\n"
          ]
        },
        {
          "name": "stdout",
          "output_type": "stream",
          "text": [
            "Valid: Loss = 0.4593, Acc = 0.9141\n",
            "\n"
          ]
        },
        {
          "name": "stderr",
          "output_type": "stream",
          "text": [
            "Epoch 190: 100%|██████████| 29/29 [00:01<00:00, 21.20batch/s, accuracy=0.985, loss=0.0366]\n"
          ]
        },
        {
          "name": "stdout",
          "output_type": "stream",
          "text": [
            "Valid: Loss = 0.4609, Acc = 0.9131\n",
            "\n"
          ]
        },
        {
          "name": "stderr",
          "output_type": "stream",
          "text": [
            "Epoch 191: 100%|██████████| 29/29 [00:01<00:00, 21.38batch/s, accuracy=0.988, loss=0.0277]\n"
          ]
        },
        {
          "name": "stdout",
          "output_type": "stream",
          "text": [
            "Valid: Loss = 0.4771, Acc = 0.9118\n",
            "\n"
          ]
        },
        {
          "name": "stderr",
          "output_type": "stream",
          "text": [
            "Epoch 192: 100%|██████████| 29/29 [00:01<00:00, 21.42batch/s, accuracy=0.989, loss=0.0272]\n"
          ]
        },
        {
          "name": "stdout",
          "output_type": "stream",
          "text": [
            "Valid: Loss = 0.4553, Acc = 0.9128\n",
            "\n"
          ]
        },
        {
          "name": "stderr",
          "output_type": "stream",
          "text": [
            "Epoch 193: 100%|██████████| 29/29 [00:01<00:00, 21.27batch/s, accuracy=0.989, loss=0.028]\n"
          ]
        },
        {
          "name": "stdout",
          "output_type": "stream",
          "text": [
            "Valid: Loss = 0.4807, Acc = 0.9131\n",
            "\n"
          ]
        },
        {
          "name": "stderr",
          "output_type": "stream",
          "text": [
            "Epoch 194: 100%|██████████| 29/29 [00:01<00:00, 21.21batch/s, accuracy=0.986, loss=0.0341]\n"
          ]
        },
        {
          "name": "stdout",
          "output_type": "stream",
          "text": [
            "Valid: Loss = 0.4682, Acc = 0.9158\n",
            "\n"
          ]
        },
        {
          "name": "stderr",
          "output_type": "stream",
          "text": [
            "Epoch 195: 100%|██████████| 29/29 [00:01<00:00, 21.36batch/s, accuracy=0.986, loss=0.0298]\n"
          ]
        },
        {
          "name": "stdout",
          "output_type": "stream",
          "text": [
            "Valid: Loss = 0.4695, Acc = 0.9169\n",
            "\n"
          ]
        },
        {
          "name": "stderr",
          "output_type": "stream",
          "text": [
            "Epoch 196: 100%|██████████| 29/29 [00:01<00:00, 21.06batch/s, accuracy=0.987, loss=0.0297]\n"
          ]
        },
        {
          "name": "stdout",
          "output_type": "stream",
          "text": [
            "Valid: Loss = 0.471, Acc = 0.9172\n",
            "\n"
          ]
        },
        {
          "name": "stderr",
          "output_type": "stream",
          "text": [
            "Epoch 197: 100%|██████████| 29/29 [00:01<00:00, 21.30batch/s, accuracy=0.986, loss=0.0316]\n"
          ]
        },
        {
          "name": "stdout",
          "output_type": "stream",
          "text": [
            "Valid: Loss = 0.4669, Acc = 0.9141\n",
            "\n"
          ]
        },
        {
          "name": "stderr",
          "output_type": "stream",
          "text": [
            "Epoch 198: 100%|██████████| 29/29 [00:01<00:00, 21.13batch/s, accuracy=0.986, loss=0.0331]\n"
          ]
        },
        {
          "name": "stdout",
          "output_type": "stream",
          "text": [
            "Valid: Loss = 0.4644, Acc = 0.9094\n",
            "\n"
          ]
        },
        {
          "name": "stderr",
          "output_type": "stream",
          "text": [
            "Epoch 199: 100%|██████████| 29/29 [00:01<00:00, 21.37batch/s, accuracy=0.985, loss=0.0334]\n"
          ]
        },
        {
          "name": "stdout",
          "output_type": "stream",
          "text": [
            "Valid: Loss = 0.4738, Acc = 0.9128\n",
            "\n"
          ]
        },
        {
          "name": "stderr",
          "output_type": "stream",
          "text": [
            "Epoch 200: 100%|██████████| 29/29 [00:01<00:00, 21.34batch/s, accuracy=0.99, loss=0.0255]\n"
          ]
        },
        {
          "name": "stdout",
          "output_type": "stream",
          "text": [
            "Valid: Loss = 0.4732, Acc = 0.9111\n",
            "\n"
          ]
        },
        {
          "name": "stderr",
          "output_type": "stream",
          "text": [
            "Epoch 201: 100%|██████████| 29/29 [00:01<00:00, 21.18batch/s, accuracy=0.987, loss=0.0307]\n"
          ]
        },
        {
          "name": "stdout",
          "output_type": "stream",
          "text": [
            "Valid: Loss = 0.4698, Acc = 0.9121\n",
            "\n"
          ]
        },
        {
          "name": "stderr",
          "output_type": "stream",
          "text": [
            "Epoch 202: 100%|██████████| 29/29 [00:01<00:00, 21.32batch/s, accuracy=0.987, loss=0.0298]\n"
          ]
        },
        {
          "name": "stdout",
          "output_type": "stream",
          "text": [
            "Valid: Loss = 0.4626, Acc = 0.9121\n",
            "\n"
          ]
        },
        {
          "name": "stderr",
          "output_type": "stream",
          "text": [
            "Epoch 203: 100%|██████████| 29/29 [00:01<00:00, 21.24batch/s, accuracy=0.987, loss=0.03]\n"
          ]
        },
        {
          "name": "stdout",
          "output_type": "stream",
          "text": [
            "Valid: Loss = 0.4683, Acc = 0.9121\n",
            "\n"
          ]
        },
        {
          "name": "stderr",
          "output_type": "stream",
          "text": [
            "Epoch 204: 100%|██████████| 29/29 [00:01<00:00, 21.22batch/s, accuracy=0.986, loss=0.0315]\n"
          ]
        },
        {
          "name": "stdout",
          "output_type": "stream",
          "text": [
            "Valid: Loss = 0.4569, Acc = 0.9121\n",
            "\n"
          ]
        },
        {
          "name": "stderr",
          "output_type": "stream",
          "text": [
            "Epoch 205: 100%|██████████| 29/29 [00:01<00:00, 21.09batch/s, accuracy=0.986, loss=0.0325]\n"
          ]
        },
        {
          "name": "stdout",
          "output_type": "stream",
          "text": [
            "Valid: Loss = 0.464, Acc = 0.9158\n",
            "\n"
          ]
        },
        {
          "name": "stderr",
          "output_type": "stream",
          "text": [
            "Epoch 206: 100%|██████████| 29/29 [00:01<00:00, 21.44batch/s, accuracy=0.989, loss=0.0289]\n"
          ]
        },
        {
          "name": "stdout",
          "output_type": "stream",
          "text": [
            "Valid: Loss = 0.4743, Acc = 0.9135\n",
            "\n"
          ]
        },
        {
          "name": "stderr",
          "output_type": "stream",
          "text": [
            "Epoch 207: 100%|██████████| 29/29 [00:01<00:00, 21.44batch/s, accuracy=0.99, loss=0.0274]\n"
          ]
        },
        {
          "name": "stdout",
          "output_type": "stream",
          "text": [
            "Valid: Loss = 0.4896, Acc = 0.9148\n",
            "\n"
          ]
        },
        {
          "name": "stderr",
          "output_type": "stream",
          "text": [
            "Epoch 208: 100%|██████████| 29/29 [00:01<00:00, 21.50batch/s, accuracy=0.985, loss=0.0344]\n"
          ]
        },
        {
          "name": "stdout",
          "output_type": "stream",
          "text": [
            "Valid: Loss = 0.4755, Acc = 0.9141\n",
            "\n"
          ]
        },
        {
          "name": "stderr",
          "output_type": "stream",
          "text": [
            "Epoch 209: 100%|██████████| 29/29 [00:01<00:00, 21.43batch/s, accuracy=0.983, loss=0.039]\n"
          ]
        },
        {
          "name": "stdout",
          "output_type": "stream",
          "text": [
            "Valid: Loss = 0.4872, Acc = 0.9111\n",
            "\n"
          ]
        },
        {
          "name": "stderr",
          "output_type": "stream",
          "text": [
            "Epoch 210: 100%|██████████| 29/29 [00:01<00:00, 19.81batch/s, accuracy=0.988, loss=0.0313]\n"
          ]
        },
        {
          "name": "stdout",
          "output_type": "stream",
          "text": [
            "Valid: Loss = 0.4647, Acc = 0.9158\n",
            "\n"
          ]
        },
        {
          "name": "stderr",
          "output_type": "stream",
          "text": [
            "Epoch 211: 100%|██████████| 29/29 [00:01<00:00, 21.43batch/s, accuracy=0.987, loss=0.0307]\n"
          ]
        },
        {
          "name": "stdout",
          "output_type": "stream",
          "text": [
            "Valid: Loss = 0.4746, Acc = 0.9128\n",
            "\n"
          ]
        },
        {
          "name": "stderr",
          "output_type": "stream",
          "text": [
            "Epoch 212: 100%|██████████| 29/29 [00:01<00:00, 21.24batch/s, accuracy=0.987, loss=0.0308]\n"
          ]
        },
        {
          "name": "stdout",
          "output_type": "stream",
          "text": [
            "Valid: Loss = 0.4937, Acc = 0.904\n",
            "\n"
          ]
        },
        {
          "name": "stderr",
          "output_type": "stream",
          "text": [
            "Epoch 213: 100%|██████████| 29/29 [00:01<00:00, 21.27batch/s, accuracy=0.986, loss=0.0345]\n"
          ]
        },
        {
          "name": "stdout",
          "output_type": "stream",
          "text": [
            "Valid: Loss = 0.4926, Acc = 0.9067\n",
            "\n"
          ]
        },
        {
          "name": "stderr",
          "output_type": "stream",
          "text": [
            "Epoch 214: 100%|██████████| 29/29 [00:01<00:00, 21.24batch/s, accuracy=0.987, loss=0.0306]\n"
          ]
        },
        {
          "name": "stdout",
          "output_type": "stream",
          "text": [
            "Valid: Loss = 0.4776, Acc = 0.9125\n",
            "\n"
          ]
        },
        {
          "name": "stderr",
          "output_type": "stream",
          "text": [
            "Epoch 215: 100%|██████████| 29/29 [00:01<00:00, 21.02batch/s, accuracy=0.99, loss=0.0258]\n"
          ]
        },
        {
          "name": "stdout",
          "output_type": "stream",
          "text": [
            "Valid: Loss = 0.4757, Acc = 0.9169\n",
            "\n"
          ]
        },
        {
          "name": "stderr",
          "output_type": "stream",
          "text": [
            "Epoch 216: 100%|██████████| 29/29 [00:01<00:00, 21.27batch/s, accuracy=0.99, loss=0.0263]\n"
          ]
        },
        {
          "name": "stdout",
          "output_type": "stream",
          "text": [
            "Valid: Loss = 0.4978, Acc = 0.9108\n",
            "\n"
          ]
        },
        {
          "name": "stderr",
          "output_type": "stream",
          "text": [
            "Epoch 217: 100%|██████████| 29/29 [00:01<00:00, 21.11batch/s, accuracy=0.988, loss=0.0264]\n"
          ]
        },
        {
          "name": "stdout",
          "output_type": "stream",
          "text": [
            "Valid: Loss = 0.4958, Acc = 0.9186\n",
            "\n"
          ]
        },
        {
          "name": "stderr",
          "output_type": "stream",
          "text": [
            "Epoch 218: 100%|██████████| 29/29 [00:01<00:00, 21.11batch/s, accuracy=0.986, loss=0.0324]\n"
          ]
        },
        {
          "name": "stdout",
          "output_type": "stream",
          "text": [
            "Valid: Loss = 0.5072, Acc = 0.9097\n",
            "\n"
          ]
        },
        {
          "name": "stderr",
          "output_type": "stream",
          "text": [
            "Epoch 219: 100%|██████████| 29/29 [00:01<00:00, 21.11batch/s, accuracy=0.989, loss=0.0265]\n"
          ]
        },
        {
          "name": "stdout",
          "output_type": "stream",
          "text": [
            "Valid: Loss = 0.4913, Acc = 0.9141\n",
            "\n"
          ]
        },
        {
          "name": "stderr",
          "output_type": "stream",
          "text": [
            "Epoch 220: 100%|██████████| 29/29 [00:01<00:00, 21.52batch/s, accuracy=0.985, loss=0.0334]\n"
          ]
        },
        {
          "name": "stdout",
          "output_type": "stream",
          "text": [
            "Valid: Loss = 0.5315, Acc = 0.9043\n",
            "\n"
          ]
        },
        {
          "name": "stderr",
          "output_type": "stream",
          "text": [
            "Epoch 221: 100%|██████████| 29/29 [00:01<00:00, 21.22batch/s, accuracy=0.987, loss=0.0289]\n"
          ]
        },
        {
          "name": "stdout",
          "output_type": "stream",
          "text": [
            "Valid: Loss = 0.4983, Acc = 0.9125\n",
            "\n"
          ]
        },
        {
          "name": "stderr",
          "output_type": "stream",
          "text": [
            "Epoch 222: 100%|██████████| 29/29 [00:01<00:00, 21.25batch/s, accuracy=0.984, loss=0.0338]\n"
          ]
        },
        {
          "name": "stdout",
          "output_type": "stream",
          "text": [
            "Valid: Loss = 0.4889, Acc = 0.9104\n",
            "\n"
          ]
        },
        {
          "name": "stderr",
          "output_type": "stream",
          "text": [
            "Epoch 223: 100%|██████████| 29/29 [00:01<00:00, 20.38batch/s, accuracy=0.986, loss=0.0308]\n"
          ]
        },
        {
          "name": "stdout",
          "output_type": "stream",
          "text": [
            "Valid: Loss = 0.5021, Acc = 0.9111\n",
            "\n"
          ]
        },
        {
          "name": "stderr",
          "output_type": "stream",
          "text": [
            "Epoch 224: 100%|██████████| 29/29 [00:01<00:00, 20.54batch/s, accuracy=0.987, loss=0.0343]\n"
          ]
        },
        {
          "name": "stdout",
          "output_type": "stream",
          "text": [
            "Valid: Loss = 0.467, Acc = 0.9121\n",
            "\n"
          ]
        },
        {
          "name": "stderr",
          "output_type": "stream",
          "text": [
            "Epoch 225: 100%|██████████| 29/29 [00:01<00:00, 20.56batch/s, accuracy=0.985, loss=0.0307]\n"
          ]
        },
        {
          "name": "stdout",
          "output_type": "stream",
          "text": [
            "Valid: Loss = 0.4822, Acc = 0.9121\n",
            "\n"
          ]
        },
        {
          "name": "stderr",
          "output_type": "stream",
          "text": [
            "Epoch 226: 100%|██████████| 29/29 [00:01<00:00, 21.15batch/s, accuracy=0.987, loss=0.0294]\n"
          ]
        },
        {
          "name": "stdout",
          "output_type": "stream",
          "text": [
            "Valid: Loss = 0.484, Acc = 0.9135\n",
            "\n"
          ]
        },
        {
          "name": "stderr",
          "output_type": "stream",
          "text": [
            "Epoch 227: 100%|██████████| 29/29 [00:01<00:00, 21.21batch/s, accuracy=0.99, loss=0.0252]\n"
          ]
        },
        {
          "name": "stdout",
          "output_type": "stream",
          "text": [
            "Valid: Loss = 0.4925, Acc = 0.9118\n",
            "\n"
          ]
        },
        {
          "name": "stderr",
          "output_type": "stream",
          "text": [
            "Epoch 228: 100%|██████████| 29/29 [00:01<00:00, 21.23batch/s, accuracy=0.986, loss=0.0321]\n"
          ]
        },
        {
          "name": "stdout",
          "output_type": "stream",
          "text": [
            "Valid: Loss = 0.4811, Acc = 0.9189\n",
            "\n"
          ]
        },
        {
          "name": "stderr",
          "output_type": "stream",
          "text": [
            "Epoch 229: 100%|██████████| 29/29 [00:01<00:00, 21.28batch/s, accuracy=0.986, loss=0.0302]\n"
          ]
        },
        {
          "name": "stdout",
          "output_type": "stream",
          "text": [
            "Valid: Loss = 0.4901, Acc = 0.9108\n",
            "\n"
          ]
        },
        {
          "name": "stderr",
          "output_type": "stream",
          "text": [
            "Epoch 230: 100%|██████████| 29/29 [00:01<00:00, 21.09batch/s, accuracy=0.99, loss=0.0245]\n"
          ]
        },
        {
          "name": "stdout",
          "output_type": "stream",
          "text": [
            "Valid: Loss = 0.4943, Acc = 0.9121\n",
            "\n"
          ]
        },
        {
          "name": "stderr",
          "output_type": "stream",
          "text": [
            "Epoch 231: 100%|██████████| 29/29 [00:01<00:00, 21.22batch/s, accuracy=0.986, loss=0.031]\n"
          ]
        },
        {
          "name": "stdout",
          "output_type": "stream",
          "text": [
            "Valid: Loss = 0.4857, Acc = 0.9155\n",
            "\n"
          ]
        },
        {
          "name": "stderr",
          "output_type": "stream",
          "text": [
            "Epoch 232: 100%|██████████| 29/29 [00:01<00:00, 21.46batch/s, accuracy=0.985, loss=0.0351]\n"
          ]
        },
        {
          "name": "stdout",
          "output_type": "stream",
          "text": [
            "Valid: Loss = 0.4789, Acc = 0.9165\n",
            "\n"
          ]
        },
        {
          "name": "stderr",
          "output_type": "stream",
          "text": [
            "Epoch 233: 100%|██████████| 29/29 [00:01<00:00, 19.98batch/s, accuracy=0.988, loss=0.0287]\n"
          ]
        },
        {
          "name": "stdout",
          "output_type": "stream",
          "text": [
            "Valid: Loss = 0.4749, Acc = 0.9145\n",
            "\n"
          ]
        },
        {
          "name": "stderr",
          "output_type": "stream",
          "text": [
            "Epoch 234: 100%|██████████| 29/29 [00:01<00:00, 21.24batch/s, accuracy=0.987, loss=0.0283]\n"
          ]
        },
        {
          "name": "stdout",
          "output_type": "stream",
          "text": [
            "Valid: Loss = 0.4855, Acc = 0.9148\n",
            "\n"
          ]
        },
        {
          "name": "stderr",
          "output_type": "stream",
          "text": [
            "Epoch 235: 100%|██████████| 29/29 [00:01<00:00, 21.27batch/s, accuracy=0.987, loss=0.0326]\n"
          ]
        },
        {
          "name": "stdout",
          "output_type": "stream",
          "text": [
            "Valid: Loss = 0.4664, Acc = 0.9199\n",
            "\n"
          ]
        },
        {
          "name": "stderr",
          "output_type": "stream",
          "text": [
            "Epoch 236: 100%|██████████| 29/29 [00:01<00:00, 21.26batch/s, accuracy=0.988, loss=0.0277]\n"
          ]
        },
        {
          "name": "stdout",
          "output_type": "stream",
          "text": [
            "Valid: Loss = 0.4708, Acc = 0.9158\n",
            "\n"
          ]
        },
        {
          "name": "stderr",
          "output_type": "stream",
          "text": [
            "Epoch 237: 100%|██████████| 29/29 [00:01<00:00, 21.19batch/s, accuracy=0.987, loss=0.0301]\n"
          ]
        },
        {
          "name": "stdout",
          "output_type": "stream",
          "text": [
            "Valid: Loss = 0.4896, Acc = 0.9087\n",
            "\n"
          ]
        },
        {
          "name": "stderr",
          "output_type": "stream",
          "text": [
            "Epoch 238: 100%|██████████| 29/29 [00:01<00:00, 21.32batch/s, accuracy=0.987, loss=0.0291]\n"
          ]
        },
        {
          "name": "stdout",
          "output_type": "stream",
          "text": [
            "Valid: Loss = 0.4689, Acc = 0.9152\n",
            "\n"
          ]
        },
        {
          "name": "stderr",
          "output_type": "stream",
          "text": [
            "Epoch 239: 100%|██████████| 29/29 [00:01<00:00, 20.86batch/s, accuracy=0.989, loss=0.0269]\n"
          ]
        },
        {
          "name": "stdout",
          "output_type": "stream",
          "text": [
            "Valid: Loss = 0.4897, Acc = 0.9114\n",
            "\n"
          ]
        },
        {
          "name": "stderr",
          "output_type": "stream",
          "text": [
            "Epoch 240: 100%|██████████| 29/29 [00:01<00:00, 21.29batch/s, accuracy=0.983, loss=0.0367]\n"
          ]
        },
        {
          "name": "stdout",
          "output_type": "stream",
          "text": [
            "Valid: Loss = 0.4607, Acc = 0.9165\n",
            "\n"
          ]
        },
        {
          "name": "stderr",
          "output_type": "stream",
          "text": [
            "Epoch 241: 100%|██████████| 29/29 [00:01<00:00, 21.26batch/s, accuracy=0.987, loss=0.0316]\n"
          ]
        },
        {
          "name": "stdout",
          "output_type": "stream",
          "text": [
            "Valid: Loss = 0.4676, Acc = 0.9169\n",
            "\n"
          ]
        },
        {
          "name": "stderr",
          "output_type": "stream",
          "text": [
            "Epoch 242: 100%|██████████| 29/29 [00:01<00:00, 20.82batch/s, accuracy=0.989, loss=0.0263]\n"
          ]
        },
        {
          "name": "stdout",
          "output_type": "stream",
          "text": [
            "Valid: Loss = 0.5034, Acc = 0.9108\n",
            "\n"
          ]
        },
        {
          "name": "stderr",
          "output_type": "stream",
          "text": [
            "Epoch 243: 100%|██████████| 29/29 [00:01<00:00, 21.20batch/s, accuracy=0.985, loss=0.0348]\n"
          ]
        },
        {
          "name": "stdout",
          "output_type": "stream",
          "text": [
            "Valid: Loss = 0.4796, Acc = 0.9131\n",
            "\n"
          ]
        },
        {
          "name": "stderr",
          "output_type": "stream",
          "text": [
            "Epoch 244: 100%|██████████| 29/29 [00:01<00:00, 20.96batch/s, accuracy=0.987, loss=0.0336]\n"
          ]
        },
        {
          "name": "stdout",
          "output_type": "stream",
          "text": [
            "Valid: Loss = 0.4688, Acc = 0.9189\n",
            "\n"
          ]
        },
        {
          "name": "stderr",
          "output_type": "stream",
          "text": [
            "Epoch 245: 100%|██████████| 29/29 [00:01<00:00, 21.16batch/s, accuracy=0.987, loss=0.0319]\n"
          ]
        },
        {
          "name": "stdout",
          "output_type": "stream",
          "text": [
            "Valid: Loss = 0.5117, Acc = 0.9104\n",
            "\n"
          ]
        },
        {
          "name": "stderr",
          "output_type": "stream",
          "text": [
            "Epoch 246: 100%|██████████| 29/29 [00:01<00:00, 21.29batch/s, accuracy=0.989, loss=0.028]\n"
          ]
        },
        {
          "name": "stdout",
          "output_type": "stream",
          "text": [
            "Valid: Loss = 0.5006, Acc = 0.9179\n",
            "\n"
          ]
        },
        {
          "name": "stderr",
          "output_type": "stream",
          "text": [
            "Epoch 247: 100%|██████████| 29/29 [00:01<00:00, 21.26batch/s, accuracy=0.987, loss=0.0294]\n"
          ]
        },
        {
          "name": "stdout",
          "output_type": "stream",
          "text": [
            "Valid: Loss = 0.4874, Acc = 0.9108\n",
            "\n"
          ]
        },
        {
          "name": "stderr",
          "output_type": "stream",
          "text": [
            "Epoch 248: 100%|██████████| 29/29 [00:01<00:00, 20.93batch/s, accuracy=0.987, loss=0.0323]\n"
          ]
        },
        {
          "name": "stdout",
          "output_type": "stream",
          "text": [
            "Valid: Loss = 0.5205, Acc = 0.9077\n",
            "\n"
          ]
        },
        {
          "name": "stderr",
          "output_type": "stream",
          "text": [
            "Epoch 249: 100%|██████████| 29/29 [00:01<00:00, 21.25batch/s, accuracy=0.981, loss=0.0401]\n"
          ]
        },
        {
          "name": "stdout",
          "output_type": "stream",
          "text": [
            "Valid: Loss = 0.4691, Acc = 0.9179\n",
            "\n"
          ]
        },
        {
          "name": "stderr",
          "output_type": "stream",
          "text": [
            "Epoch 250: 100%|██████████| 29/29 [00:01<00:00, 20.93batch/s, accuracy=0.986, loss=0.0292]\n"
          ]
        },
        {
          "name": "stdout",
          "output_type": "stream",
          "text": [
            "Valid: Loss = 0.4783, Acc = 0.9138\n",
            "\n"
          ]
        },
        {
          "name": "stderr",
          "output_type": "stream",
          "text": [
            "Epoch 251: 100%|██████████| 29/29 [00:01<00:00, 21.20batch/s, accuracy=0.988, loss=0.0278]\n"
          ]
        },
        {
          "name": "stdout",
          "output_type": "stream",
          "text": [
            "Valid: Loss = 0.4904, Acc = 0.9148\n",
            "\n"
          ]
        },
        {
          "name": "stderr",
          "output_type": "stream",
          "text": [
            "Epoch 252: 100%|██████████| 29/29 [00:01<00:00, 21.22batch/s, accuracy=0.986, loss=0.0314]\n"
          ]
        },
        {
          "name": "stdout",
          "output_type": "stream",
          "text": [
            "Valid: Loss = 0.5207, Acc = 0.9118\n",
            "\n"
          ]
        },
        {
          "name": "stderr",
          "output_type": "stream",
          "text": [
            "Epoch 253: 100%|██████████| 29/29 [00:01<00:00, 21.26batch/s, accuracy=0.985, loss=0.0316]\n"
          ]
        },
        {
          "name": "stdout",
          "output_type": "stream",
          "text": [
            "Valid: Loss = 0.5021, Acc = 0.904\n",
            "\n"
          ]
        },
        {
          "name": "stderr",
          "output_type": "stream",
          "text": [
            "Epoch 254: 100%|██████████| 29/29 [00:01<00:00, 20.99batch/s, accuracy=0.989, loss=0.0274]\n"
          ]
        },
        {
          "name": "stdout",
          "output_type": "stream",
          "text": [
            "Valid: Loss = 0.5011, Acc = 0.9121\n",
            "\n"
          ]
        },
        {
          "name": "stderr",
          "output_type": "stream",
          "text": [
            "Epoch 255: 100%|██████████| 29/29 [00:01<00:00, 20.76batch/s, accuracy=0.989, loss=0.0259]\n"
          ]
        },
        {
          "name": "stdout",
          "output_type": "stream",
          "text": [
            "Valid: Loss = 0.4988, Acc = 0.9121\n",
            "\n"
          ]
        },
        {
          "name": "stderr",
          "output_type": "stream",
          "text": [
            "Epoch 256: 100%|██████████| 29/29 [00:01<00:00, 19.91batch/s, accuracy=0.989, loss=0.0313]\n"
          ]
        },
        {
          "name": "stdout",
          "output_type": "stream",
          "text": [
            "Valid: Loss = 0.5135, Acc = 0.9108\n",
            "\n"
          ]
        },
        {
          "name": "stderr",
          "output_type": "stream",
          "text": [
            "Epoch 257: 100%|██████████| 29/29 [00:01<00:00, 21.35batch/s, accuracy=0.987, loss=0.0312]\n"
          ]
        },
        {
          "name": "stdout",
          "output_type": "stream",
          "text": [
            "Valid: Loss = 0.4745, Acc = 0.9125\n",
            "\n"
          ]
        },
        {
          "name": "stderr",
          "output_type": "stream",
          "text": [
            "Epoch 258: 100%|██████████| 29/29 [00:01<00:00, 21.16batch/s, accuracy=0.989, loss=0.0266]\n"
          ]
        },
        {
          "name": "stdout",
          "output_type": "stream",
          "text": [
            "Valid: Loss = 0.4712, Acc = 0.9152\n",
            "\n"
          ]
        },
        {
          "name": "stderr",
          "output_type": "stream",
          "text": [
            "Epoch 259: 100%|██████████| 29/29 [00:01<00:00, 21.08batch/s, accuracy=0.989, loss=0.0265]\n"
          ]
        },
        {
          "name": "stdout",
          "output_type": "stream",
          "text": [
            "Valid: Loss = 0.4856, Acc = 0.9104\n",
            "\n"
          ]
        },
        {
          "name": "stderr",
          "output_type": "stream",
          "text": [
            "Epoch 260: 100%|██████████| 29/29 [00:01<00:00, 20.99batch/s, accuracy=0.992, loss=0.0255]\n"
          ]
        },
        {
          "name": "stdout",
          "output_type": "stream",
          "text": [
            "Valid: Loss = 0.4987, Acc = 0.9101\n",
            "\n"
          ]
        },
        {
          "name": "stderr",
          "output_type": "stream",
          "text": [
            "Epoch 261: 100%|██████████| 29/29 [00:01<00:00, 21.24batch/s, accuracy=0.987, loss=0.0307]\n"
          ]
        },
        {
          "name": "stdout",
          "output_type": "stream",
          "text": [
            "Valid: Loss = 0.4996, Acc = 0.908\n",
            "\n"
          ]
        },
        {
          "name": "stderr",
          "output_type": "stream",
          "text": [
            "Epoch 262: 100%|██████████| 29/29 [00:01<00:00, 21.28batch/s, accuracy=0.988, loss=0.0288]\n"
          ]
        },
        {
          "name": "stdout",
          "output_type": "stream",
          "text": [
            "Valid: Loss = 0.4892, Acc = 0.9094\n",
            "\n"
          ]
        },
        {
          "name": "stderr",
          "output_type": "stream",
          "text": [
            "Epoch 263: 100%|██████████| 29/29 [00:01<00:00, 21.34batch/s, accuracy=0.99, loss=0.0245]\n"
          ]
        },
        {
          "name": "stdout",
          "output_type": "stream",
          "text": [
            "Valid: Loss = 0.49, Acc = 0.9138\n",
            "\n"
          ]
        },
        {
          "name": "stderr",
          "output_type": "stream",
          "text": [
            "Epoch 264: 100%|██████████| 29/29 [00:01<00:00, 20.93batch/s, accuracy=0.985, loss=0.0315]\n"
          ]
        },
        {
          "name": "stdout",
          "output_type": "stream",
          "text": [
            "Valid: Loss = 0.4912, Acc = 0.9091\n",
            "\n"
          ]
        },
        {
          "name": "stderr",
          "output_type": "stream",
          "text": [
            "Epoch 265: 100%|██████████| 29/29 [00:01<00:00, 21.22batch/s, accuracy=0.988, loss=0.0313]\n"
          ]
        },
        {
          "name": "stdout",
          "output_type": "stream",
          "text": [
            "Valid: Loss = 0.4868, Acc = 0.9121\n",
            "\n"
          ]
        },
        {
          "name": "stderr",
          "output_type": "stream",
          "text": [
            "Epoch 266: 100%|██████████| 29/29 [00:01<00:00, 21.06batch/s, accuracy=0.987, loss=0.029]\n"
          ]
        },
        {
          "name": "stdout",
          "output_type": "stream",
          "text": [
            "Valid: Loss = 0.4897, Acc = 0.9074\n",
            "\n"
          ]
        },
        {
          "name": "stderr",
          "output_type": "stream",
          "text": [
            "Epoch 267: 100%|██████████| 29/29 [00:01<00:00, 21.32batch/s, accuracy=0.988, loss=0.0275]\n"
          ]
        },
        {
          "name": "stdout",
          "output_type": "stream",
          "text": [
            "Valid: Loss = 0.4899, Acc = 0.9131\n",
            "\n"
          ]
        },
        {
          "name": "stderr",
          "output_type": "stream",
          "text": [
            "Epoch 268: 100%|██████████| 29/29 [00:01<00:00, 20.93batch/s, accuracy=0.986, loss=0.0312]\n"
          ]
        },
        {
          "name": "stdout",
          "output_type": "stream",
          "text": [
            "Valid: Loss = 0.4987, Acc = 0.9094\n",
            "\n"
          ]
        },
        {
          "name": "stderr",
          "output_type": "stream",
          "text": [
            "Epoch 269: 100%|██████████| 29/29 [00:01<00:00, 21.19batch/s, accuracy=0.986, loss=0.0332]\n"
          ]
        },
        {
          "name": "stdout",
          "output_type": "stream",
          "text": [
            "Valid: Loss = 0.4939, Acc = 0.9125\n",
            "\n"
          ]
        },
        {
          "name": "stderr",
          "output_type": "stream",
          "text": [
            "Epoch 270: 100%|██████████| 29/29 [00:01<00:00, 21.35batch/s, accuracy=0.986, loss=0.0312]\n"
          ]
        },
        {
          "name": "stdout",
          "output_type": "stream",
          "text": [
            "Valid: Loss = 0.4674, Acc = 0.9169\n",
            "\n"
          ]
        },
        {
          "name": "stderr",
          "output_type": "stream",
          "text": [
            "Epoch 271: 100%|██████████| 29/29 [00:01<00:00, 21.09batch/s, accuracy=0.989, loss=0.0256]\n"
          ]
        },
        {
          "name": "stdout",
          "output_type": "stream",
          "text": [
            "Valid: Loss = 0.4856, Acc = 0.9125\n",
            "\n"
          ]
        },
        {
          "name": "stderr",
          "output_type": "stream",
          "text": [
            "Epoch 272: 100%|██████████| 29/29 [00:01<00:00, 21.29batch/s, accuracy=0.988, loss=0.0329]\n"
          ]
        },
        {
          "name": "stdout",
          "output_type": "stream",
          "text": [
            "Valid: Loss = 0.4862, Acc = 0.9111\n",
            "\n"
          ]
        },
        {
          "name": "stderr",
          "output_type": "stream",
          "text": [
            "Epoch 273: 100%|██████████| 29/29 [00:01<00:00, 21.28batch/s, accuracy=0.989, loss=0.0264]\n"
          ]
        },
        {
          "name": "stdout",
          "output_type": "stream",
          "text": [
            "Valid: Loss = 0.4749, Acc = 0.9141\n",
            "\n"
          ]
        },
        {
          "name": "stderr",
          "output_type": "stream",
          "text": [
            "Epoch 274: 100%|██████████| 29/29 [00:01<00:00, 21.08batch/s, accuracy=0.988, loss=0.0261]\n"
          ]
        },
        {
          "name": "stdout",
          "output_type": "stream",
          "text": [
            "Valid: Loss = 0.4708, Acc = 0.9158\n",
            "\n"
          ]
        },
        {
          "name": "stderr",
          "output_type": "stream",
          "text": [
            "Epoch 275: 100%|██████████| 29/29 [00:01<00:00, 21.30batch/s, accuracy=0.989, loss=0.028]\n"
          ]
        },
        {
          "name": "stdout",
          "output_type": "stream",
          "text": [
            "Valid: Loss = 0.4922, Acc = 0.9118\n",
            "\n"
          ]
        },
        {
          "name": "stderr",
          "output_type": "stream",
          "text": [
            "Epoch 276: 100%|██████████| 29/29 [00:01<00:00, 21.04batch/s, accuracy=0.987, loss=0.0296]\n"
          ]
        },
        {
          "name": "stdout",
          "output_type": "stream",
          "text": [
            "Valid: Loss = 0.498, Acc = 0.923\n",
            "\n"
          ]
        },
        {
          "name": "stderr",
          "output_type": "stream",
          "text": [
            "Epoch 277: 100%|██████████| 29/29 [00:01<00:00, 21.22batch/s, accuracy=0.986, loss=0.0312]\n"
          ]
        },
        {
          "name": "stdout",
          "output_type": "stream",
          "text": [
            "Valid: Loss = 0.488, Acc = 0.9111\n",
            "\n"
          ]
        },
        {
          "name": "stderr",
          "output_type": "stream",
          "text": [
            "Epoch 278: 100%|██████████| 29/29 [00:01<00:00, 21.14batch/s, accuracy=0.987, loss=0.0307]\n"
          ]
        },
        {
          "name": "stdout",
          "output_type": "stream",
          "text": [
            "Valid: Loss = 0.4902, Acc = 0.9121\n",
            "\n"
          ]
        },
        {
          "name": "stderr",
          "output_type": "stream",
          "text": [
            "Epoch 279: 100%|██████████| 29/29 [00:01<00:00, 19.36batch/s, accuracy=0.988, loss=0.0293]\n"
          ]
        },
        {
          "name": "stdout",
          "output_type": "stream",
          "text": [
            "Valid: Loss = 0.495, Acc = 0.9138\n",
            "\n"
          ]
        },
        {
          "name": "stderr",
          "output_type": "stream",
          "text": [
            "Epoch 280: 100%|██████████| 29/29 [00:01<00:00, 20.79batch/s, accuracy=0.989, loss=0.0271]\n"
          ]
        },
        {
          "name": "stdout",
          "output_type": "stream",
          "text": [
            "Valid: Loss = 0.5065, Acc = 0.9108\n",
            "\n"
          ]
        },
        {
          "name": "stderr",
          "output_type": "stream",
          "text": [
            "Epoch 281: 100%|██████████| 29/29 [00:01<00:00, 20.45batch/s, accuracy=0.987, loss=0.031]\n"
          ]
        },
        {
          "name": "stdout",
          "output_type": "stream",
          "text": [
            "Valid: Loss = 0.4833, Acc = 0.9179\n",
            "\n"
          ]
        },
        {
          "name": "stderr",
          "output_type": "stream",
          "text": [
            "Epoch 282: 100%|██████████| 29/29 [00:01<00:00, 20.54batch/s, accuracy=0.986, loss=0.0328]\n"
          ]
        },
        {
          "name": "stdout",
          "output_type": "stream",
          "text": [
            "Valid: Loss = 0.5025, Acc = 0.9114\n",
            "\n"
          ]
        },
        {
          "name": "stderr",
          "output_type": "stream",
          "text": [
            "Epoch 283: 100%|██████████| 29/29 [00:01<00:00, 20.99batch/s, accuracy=0.988, loss=0.0302]\n"
          ]
        },
        {
          "name": "stdout",
          "output_type": "stream",
          "text": [
            "Valid: Loss = 0.4885, Acc = 0.9118\n",
            "\n"
          ]
        },
        {
          "name": "stderr",
          "output_type": "stream",
          "text": [
            "Epoch 284: 100%|██████████| 29/29 [00:01<00:00, 20.93batch/s, accuracy=0.985, loss=0.0325]\n"
          ]
        },
        {
          "name": "stdout",
          "output_type": "stream",
          "text": [
            "Valid: Loss = 0.4824, Acc = 0.9141\n",
            "\n"
          ]
        },
        {
          "name": "stderr",
          "output_type": "stream",
          "text": [
            "Epoch 285: 100%|██████████| 29/29 [00:01<00:00, 21.16batch/s, accuracy=0.987, loss=0.0324]\n"
          ]
        },
        {
          "name": "stdout",
          "output_type": "stream",
          "text": [
            "Valid: Loss = 0.4963, Acc = 0.9097\n",
            "\n"
          ]
        },
        {
          "name": "stderr",
          "output_type": "stream",
          "text": [
            "Epoch 286: 100%|██████████| 29/29 [00:01<00:00, 21.32batch/s, accuracy=0.982, loss=0.0404]\n"
          ]
        },
        {
          "name": "stdout",
          "output_type": "stream",
          "text": [
            "Valid: Loss = 0.4783, Acc = 0.9135\n",
            "\n"
          ]
        },
        {
          "name": "stderr",
          "output_type": "stream",
          "text": [
            "Epoch 287: 100%|██████████| 29/29 [00:01<00:00, 21.31batch/s, accuracy=0.983, loss=0.0346]\n"
          ]
        },
        {
          "name": "stdout",
          "output_type": "stream",
          "text": [
            "Valid: Loss = 0.4803, Acc = 0.9111\n",
            "\n"
          ]
        },
        {
          "name": "stderr",
          "output_type": "stream",
          "text": [
            "Epoch 288: 100%|██████████| 29/29 [00:01<00:00, 21.09batch/s, accuracy=0.99, loss=0.0251]\n"
          ]
        },
        {
          "name": "stdout",
          "output_type": "stream",
          "text": [
            "Valid: Loss = 0.4925, Acc = 0.9158\n",
            "\n"
          ]
        },
        {
          "name": "stderr",
          "output_type": "stream",
          "text": [
            "Epoch 289: 100%|██████████| 29/29 [00:01<00:00, 21.08batch/s, accuracy=0.99, loss=0.0236]\n"
          ]
        },
        {
          "name": "stdout",
          "output_type": "stream",
          "text": [
            "Valid: Loss = 0.5041, Acc = 0.9165\n",
            "\n"
          ]
        },
        {
          "name": "stderr",
          "output_type": "stream",
          "text": [
            "Epoch 290: 100%|██████████| 29/29 [00:01<00:00, 21.01batch/s, accuracy=0.986, loss=0.0373]\n"
          ]
        },
        {
          "name": "stdout",
          "output_type": "stream",
          "text": [
            "Valid: Loss = 0.4821, Acc = 0.9182\n",
            "\n"
          ]
        },
        {
          "name": "stderr",
          "output_type": "stream",
          "text": [
            "Epoch 291: 100%|██████████| 29/29 [00:01<00:00, 21.32batch/s, accuracy=0.987, loss=0.0317]\n"
          ]
        },
        {
          "name": "stdout",
          "output_type": "stream",
          "text": [
            "Valid: Loss = 0.4718, Acc = 0.9162\n",
            "\n"
          ]
        },
        {
          "name": "stderr",
          "output_type": "stream",
          "text": [
            "Epoch 292: 100%|██████████| 29/29 [00:01<00:00, 21.19batch/s, accuracy=0.988, loss=0.0261]\n"
          ]
        },
        {
          "name": "stdout",
          "output_type": "stream",
          "text": [
            "Valid: Loss = 0.4762, Acc = 0.9158\n",
            "\n"
          ]
        },
        {
          "name": "stderr",
          "output_type": "stream",
          "text": [
            "Epoch 293: 100%|██████████| 29/29 [00:01<00:00, 21.13batch/s, accuracy=0.987, loss=0.0319]\n"
          ]
        },
        {
          "name": "stdout",
          "output_type": "stream",
          "text": [
            "Valid: Loss = 0.471, Acc = 0.9114\n",
            "\n"
          ]
        },
        {
          "name": "stderr",
          "output_type": "stream",
          "text": [
            "Epoch 294: 100%|██████████| 29/29 [00:01<00:00, 21.34batch/s, accuracy=0.986, loss=0.032]\n"
          ]
        },
        {
          "name": "stdout",
          "output_type": "stream",
          "text": [
            "Valid: Loss = 0.456, Acc = 0.9179\n",
            "\n"
          ]
        },
        {
          "name": "stderr",
          "output_type": "stream",
          "text": [
            "Epoch 295: 100%|██████████| 29/29 [00:01<00:00, 21.32batch/s, accuracy=0.986, loss=0.0334]\n"
          ]
        },
        {
          "name": "stdout",
          "output_type": "stream",
          "text": [
            "Valid: Loss = 0.4799, Acc = 0.9118\n",
            "\n"
          ]
        },
        {
          "name": "stderr",
          "output_type": "stream",
          "text": [
            "Epoch 296: 100%|██████████| 29/29 [00:01<00:00, 21.01batch/s, accuracy=0.988, loss=0.0314]\n"
          ]
        },
        {
          "name": "stdout",
          "output_type": "stream",
          "text": [
            "Valid: Loss = 0.4863, Acc = 0.9091\n",
            "\n"
          ]
        },
        {
          "name": "stderr",
          "output_type": "stream",
          "text": [
            "Epoch 297: 100%|██████████| 29/29 [00:01<00:00, 21.20batch/s, accuracy=0.988, loss=0.0274]\n"
          ]
        },
        {
          "name": "stdout",
          "output_type": "stream",
          "text": [
            "Valid: Loss = 0.4772, Acc = 0.9145\n",
            "\n"
          ]
        },
        {
          "name": "stderr",
          "output_type": "stream",
          "text": [
            "Epoch 298: 100%|██████████| 29/29 [00:01<00:00, 21.26batch/s, accuracy=0.987, loss=0.0283]\n"
          ]
        },
        {
          "name": "stdout",
          "output_type": "stream",
          "text": [
            "Valid: Loss = 0.4832, Acc = 0.9114\n",
            "\n"
          ]
        },
        {
          "name": "stderr",
          "output_type": "stream",
          "text": [
            "Epoch 299: 100%|██████████| 29/29 [00:01<00:00, 21.06batch/s, accuracy=0.989, loss=0.026]\n"
          ]
        },
        {
          "name": "stdout",
          "output_type": "stream",
          "text": [
            "Valid: Loss = 0.4817, Acc = 0.9121\n",
            "\n"
          ]
        },
        {
          "name": "stderr",
          "output_type": "stream",
          "text": [
            "Epoch 300: 100%|██████████| 29/29 [00:01<00:00, 21.34batch/s, accuracy=0.989, loss=0.0268]\n"
          ]
        },
        {
          "name": "stdout",
          "output_type": "stream",
          "text": [
            "Valid: Loss = 0.4875, Acc = 0.9121\n",
            "\n"
          ]
        },
        {
          "name": "stderr",
          "output_type": "stream",
          "text": [
            "Epoch 301: 100%|██████████| 29/29 [00:01<00:00, 20.96batch/s, accuracy=0.987, loss=0.0304]\n"
          ]
        },
        {
          "name": "stdout",
          "output_type": "stream",
          "text": [
            "Valid: Loss = 0.4768, Acc = 0.9114\n",
            "\n"
          ]
        },
        {
          "name": "stderr",
          "output_type": "stream",
          "text": [
            "Epoch 302: 100%|██████████| 29/29 [00:01<00:00, 21.28batch/s, accuracy=0.99, loss=0.0225]\n"
          ]
        },
        {
          "name": "stdout",
          "output_type": "stream",
          "text": [
            "Valid: Loss = 0.4723, Acc = 0.9169\n",
            "\n"
          ]
        },
        {
          "name": "stderr",
          "output_type": "stream",
          "text": [
            "Epoch 303: 100%|██████████| 29/29 [00:01<00:00, 20.03batch/s, accuracy=0.992, loss=0.022]\n"
          ]
        },
        {
          "name": "stdout",
          "output_type": "stream",
          "text": [
            "Valid: Loss = 0.4894, Acc = 0.9138\n",
            "\n"
          ]
        },
        {
          "name": "stderr",
          "output_type": "stream",
          "text": [
            "Epoch 304: 100%|██████████| 29/29 [00:01<00:00, 21.20batch/s, accuracy=0.987, loss=0.0323]\n"
          ]
        },
        {
          "name": "stdout",
          "output_type": "stream",
          "text": [
            "Valid: Loss = 0.4864, Acc = 0.9162\n",
            "\n"
          ]
        },
        {
          "name": "stderr",
          "output_type": "stream",
          "text": [
            "Epoch 305: 100%|██████████| 29/29 [00:01<00:00, 21.25batch/s, accuracy=0.988, loss=0.0293]\n"
          ]
        },
        {
          "name": "stdout",
          "output_type": "stream",
          "text": [
            "Valid: Loss = 0.4863, Acc = 0.9135\n",
            "\n"
          ]
        },
        {
          "name": "stderr",
          "output_type": "stream",
          "text": [
            "Epoch 306: 100%|██████████| 29/29 [00:01<00:00, 21.14batch/s, accuracy=0.989, loss=0.0259]\n"
          ]
        },
        {
          "name": "stdout",
          "output_type": "stream",
          "text": [
            "Valid: Loss = 0.4856, Acc = 0.9145\n",
            "\n"
          ]
        },
        {
          "name": "stderr",
          "output_type": "stream",
          "text": [
            "Epoch 307: 100%|██████████| 29/29 [00:01<00:00, 21.16batch/s, accuracy=0.988, loss=0.0319]\n"
          ]
        },
        {
          "name": "stdout",
          "output_type": "stream",
          "text": [
            "Valid: Loss = 0.4797, Acc = 0.9108\n",
            "\n"
          ]
        },
        {
          "name": "stderr",
          "output_type": "stream",
          "text": [
            "Epoch 308: 100%|██████████| 29/29 [00:01<00:00, 20.84batch/s, accuracy=0.987, loss=0.0299]\n"
          ]
        },
        {
          "name": "stdout",
          "output_type": "stream",
          "text": [
            "Valid: Loss = 0.5056, Acc = 0.9094\n",
            "\n"
          ]
        },
        {
          "name": "stderr",
          "output_type": "stream",
          "text": [
            "Epoch 309: 100%|██████████| 29/29 [00:01<00:00, 20.99batch/s, accuracy=0.988, loss=0.0275]\n"
          ]
        },
        {
          "name": "stdout",
          "output_type": "stream",
          "text": [
            "Valid: Loss = 0.4913, Acc = 0.9111\n",
            "\n"
          ]
        },
        {
          "name": "stderr",
          "output_type": "stream",
          "text": [
            "Epoch 310: 100%|██████████| 29/29 [00:01<00:00, 21.14batch/s, accuracy=0.987, loss=0.0288]\n"
          ]
        },
        {
          "name": "stdout",
          "output_type": "stream",
          "text": [
            "Valid: Loss = 0.5074, Acc = 0.9111\n",
            "\n"
          ]
        },
        {
          "name": "stderr",
          "output_type": "stream",
          "text": [
            "Epoch 311: 100%|██████████| 29/29 [00:01<00:00, 20.95batch/s, accuracy=0.986, loss=0.0351]\n"
          ]
        },
        {
          "name": "stdout",
          "output_type": "stream",
          "text": [
            "Valid: Loss = 0.4855, Acc = 0.9169\n",
            "\n"
          ]
        },
        {
          "name": "stderr",
          "output_type": "stream",
          "text": [
            "Epoch 312: 100%|██████████| 29/29 [00:01<00:00, 21.05batch/s, accuracy=0.988, loss=0.027]\n"
          ]
        },
        {
          "name": "stdout",
          "output_type": "stream",
          "text": [
            "Valid: Loss = 0.5012, Acc = 0.9063\n",
            "\n"
          ]
        },
        {
          "name": "stderr",
          "output_type": "stream",
          "text": [
            "Epoch 313: 100%|██████████| 29/29 [00:01<00:00, 21.21batch/s, accuracy=0.989, loss=0.0239]\n"
          ]
        },
        {
          "name": "stdout",
          "output_type": "stream",
          "text": [
            "Valid: Loss = 0.5054, Acc = 0.9101\n",
            "\n"
          ]
        },
        {
          "name": "stderr",
          "output_type": "stream",
          "text": [
            "Epoch 314: 100%|██████████| 29/29 [00:01<00:00, 21.25batch/s, accuracy=0.988, loss=0.0284]\n"
          ]
        },
        {
          "name": "stdout",
          "output_type": "stream",
          "text": [
            "Valid: Loss = 0.4872, Acc = 0.9108\n",
            "\n"
          ]
        },
        {
          "name": "stderr",
          "output_type": "stream",
          "text": [
            "Epoch 315: 100%|██████████| 29/29 [00:01<00:00, 21.09batch/s, accuracy=0.989, loss=0.0245]\n"
          ]
        },
        {
          "name": "stdout",
          "output_type": "stream",
          "text": [
            "Valid: Loss = 0.4945, Acc = 0.9125\n",
            "\n"
          ]
        },
        {
          "name": "stderr",
          "output_type": "stream",
          "text": [
            "Epoch 316: 100%|██████████| 29/29 [00:01<00:00, 21.11batch/s, accuracy=0.99, loss=0.0246]\n"
          ]
        },
        {
          "name": "stdout",
          "output_type": "stream",
          "text": [
            "Valid: Loss = 0.4942, Acc = 0.9141\n",
            "\n"
          ]
        },
        {
          "name": "stderr",
          "output_type": "stream",
          "text": [
            "Epoch 317: 100%|██████████| 29/29 [00:01<00:00, 20.90batch/s, accuracy=0.988, loss=0.0287]\n"
          ]
        },
        {
          "name": "stdout",
          "output_type": "stream",
          "text": [
            "Valid: Loss = 0.4971, Acc = 0.9131\n",
            "\n"
          ]
        },
        {
          "name": "stderr",
          "output_type": "stream",
          "text": [
            "Epoch 318: 100%|██████████| 29/29 [00:01<00:00, 21.25batch/s, accuracy=0.99, loss=0.0277]\n"
          ]
        },
        {
          "name": "stdout",
          "output_type": "stream",
          "text": [
            "Valid: Loss = 0.5234, Acc = 0.9162\n",
            "\n"
          ]
        },
        {
          "name": "stderr",
          "output_type": "stream",
          "text": [
            "Epoch 319: 100%|██████████| 29/29 [00:01<00:00, 21.32batch/s, accuracy=0.985, loss=0.0307]\n"
          ]
        },
        {
          "name": "stdout",
          "output_type": "stream",
          "text": [
            "Valid: Loss = 0.5991, Acc = 0.9077\n",
            "\n"
          ]
        },
        {
          "name": "stderr",
          "output_type": "stream",
          "text": [
            "Epoch 320: 100%|██████████| 29/29 [00:01<00:00, 21.21batch/s, accuracy=0.985, loss=0.0297]\n"
          ]
        },
        {
          "name": "stdout",
          "output_type": "stream",
          "text": [
            "Valid: Loss = 0.6208, Acc = 0.9094\n",
            "\n"
          ]
        },
        {
          "name": "stderr",
          "output_type": "stream",
          "text": [
            "Epoch 321: 100%|██████████| 29/29 [00:01<00:00, 21.02batch/s, accuracy=0.988, loss=0.0277]\n"
          ]
        },
        {
          "name": "stdout",
          "output_type": "stream",
          "text": [
            "Valid: Loss = 0.4851, Acc = 0.9101\n",
            "\n"
          ]
        },
        {
          "name": "stderr",
          "output_type": "stream",
          "text": [
            "Epoch 322: 100%|██████████| 29/29 [00:01<00:00, 21.18batch/s, accuracy=0.989, loss=0.0267]\n"
          ]
        },
        {
          "name": "stdout",
          "output_type": "stream",
          "text": [
            "Valid: Loss = 0.5057, Acc = 0.9128\n",
            "\n"
          ]
        },
        {
          "name": "stderr",
          "output_type": "stream",
          "text": [
            "Epoch 323: 100%|██████████| 29/29 [00:01<00:00, 21.24batch/s, accuracy=0.988, loss=0.0285]\n"
          ]
        },
        {
          "name": "stdout",
          "output_type": "stream",
          "text": [
            "Valid: Loss = 0.5137, Acc = 0.9101\n",
            "\n"
          ]
        },
        {
          "name": "stderr",
          "output_type": "stream",
          "text": [
            "Epoch 324: 100%|██████████| 29/29 [00:01<00:00, 21.28batch/s, accuracy=0.989, loss=0.0231]\n"
          ]
        },
        {
          "name": "stdout",
          "output_type": "stream",
          "text": [
            "Valid: Loss = 0.5087, Acc = 0.9138\n",
            "\n"
          ]
        },
        {
          "name": "stderr",
          "output_type": "stream",
          "text": [
            "Epoch 325: 100%|██████████| 29/29 [00:01<00:00, 21.24batch/s, accuracy=0.989, loss=0.0257]\n"
          ]
        },
        {
          "name": "stdout",
          "output_type": "stream",
          "text": [
            "Valid: Loss = 0.506, Acc = 0.9087\n",
            "\n"
          ]
        },
        {
          "name": "stderr",
          "output_type": "stream",
          "text": [
            "Epoch 326: 100%|██████████| 29/29 [00:01<00:00, 19.84batch/s, accuracy=0.99, loss=0.0248]\n"
          ]
        },
        {
          "name": "stdout",
          "output_type": "stream",
          "text": [
            "Valid: Loss = 0.5129, Acc = 0.9135\n",
            "\n"
          ]
        },
        {
          "name": "stderr",
          "output_type": "stream",
          "text": [
            "Epoch 327: 100%|██████████| 29/29 [00:01<00:00, 21.24batch/s, accuracy=0.987, loss=0.031]\n"
          ]
        },
        {
          "name": "stdout",
          "output_type": "stream",
          "text": [
            "Valid: Loss = 0.4901, Acc = 0.9131\n",
            "\n"
          ]
        },
        {
          "name": "stderr",
          "output_type": "stream",
          "text": [
            "Epoch 328: 100%|██████████| 29/29 [00:01<00:00, 21.36batch/s, accuracy=0.987, loss=0.0299]\n"
          ]
        },
        {
          "name": "stdout",
          "output_type": "stream",
          "text": [
            "Valid: Loss = 0.4955, Acc = 0.9131\n",
            "\n"
          ]
        },
        {
          "name": "stderr",
          "output_type": "stream",
          "text": [
            "Epoch 329: 100%|██████████| 29/29 [00:01<00:00, 20.88batch/s, accuracy=0.989, loss=0.026]\n"
          ]
        },
        {
          "name": "stdout",
          "output_type": "stream",
          "text": [
            "Valid: Loss = 0.4975, Acc = 0.9196\n",
            "\n"
          ]
        },
        {
          "name": "stderr",
          "output_type": "stream",
          "text": [
            "Epoch 330: 100%|██████████| 29/29 [00:01<00:00, 21.17batch/s, accuracy=0.985, loss=0.0329]\n"
          ]
        },
        {
          "name": "stdout",
          "output_type": "stream",
          "text": [
            "Valid: Loss = 0.5105, Acc = 0.9091\n",
            "\n"
          ]
        },
        {
          "name": "stderr",
          "output_type": "stream",
          "text": [
            "Epoch 331: 100%|██████████| 29/29 [00:01<00:00, 21.32batch/s, accuracy=0.987, loss=0.0301]\n"
          ]
        },
        {
          "name": "stdout",
          "output_type": "stream",
          "text": [
            "Valid: Loss = 0.4976, Acc = 0.9111\n",
            "\n"
          ]
        },
        {
          "name": "stderr",
          "output_type": "stream",
          "text": [
            "Epoch 332: 100%|██████████| 29/29 [00:01<00:00, 21.26batch/s, accuracy=0.99, loss=0.0242]\n"
          ]
        },
        {
          "name": "stdout",
          "output_type": "stream",
          "text": [
            "Valid: Loss = 0.5211, Acc = 0.9118\n",
            "\n"
          ]
        },
        {
          "name": "stderr",
          "output_type": "stream",
          "text": [
            "Epoch 333: 100%|██████████| 29/29 [00:01<00:00, 21.07batch/s, accuracy=0.989, loss=0.0243]\n"
          ]
        },
        {
          "name": "stdout",
          "output_type": "stream",
          "text": [
            "Valid: Loss = 0.5007, Acc = 0.9114\n",
            "\n"
          ]
        },
        {
          "name": "stderr",
          "output_type": "stream",
          "text": [
            "Epoch 334: 100%|██████████| 29/29 [00:01<00:00, 21.33batch/s, accuracy=0.989, loss=0.0252]\n"
          ]
        },
        {
          "name": "stdout",
          "output_type": "stream",
          "text": [
            "Valid: Loss = 0.4949, Acc = 0.9097\n",
            "\n"
          ]
        },
        {
          "name": "stderr",
          "output_type": "stream",
          "text": [
            "Epoch 335: 100%|██████████| 29/29 [00:01<00:00, 21.14batch/s, accuracy=0.99, loss=0.0234]\n"
          ]
        },
        {
          "name": "stdout",
          "output_type": "stream",
          "text": [
            "Valid: Loss = 0.5022, Acc = 0.9114\n",
            "\n"
          ]
        },
        {
          "name": "stderr",
          "output_type": "stream",
          "text": [
            "Epoch 336: 100%|██████████| 29/29 [00:01<00:00, 21.14batch/s, accuracy=0.988, loss=0.0295]\n"
          ]
        },
        {
          "name": "stdout",
          "output_type": "stream",
          "text": [
            "Valid: Loss = 0.5023, Acc = 0.9101\n",
            "\n"
          ]
        },
        {
          "name": "stderr",
          "output_type": "stream",
          "text": [
            "Epoch 337: 100%|██████████| 29/29 [00:01<00:00, 21.14batch/s, accuracy=0.986, loss=0.0317]\n"
          ]
        },
        {
          "name": "stdout",
          "output_type": "stream",
          "text": [
            "Valid: Loss = 0.4886, Acc = 0.9121\n",
            "\n"
          ]
        },
        {
          "name": "stderr",
          "output_type": "stream",
          "text": [
            "Epoch 338: 100%|██████████| 29/29 [00:01<00:00, 20.11batch/s, accuracy=0.989, loss=0.0237]\n"
          ]
        },
        {
          "name": "stdout",
          "output_type": "stream",
          "text": [
            "Valid: Loss = 0.5071, Acc = 0.9111\n",
            "\n"
          ]
        },
        {
          "name": "stderr",
          "output_type": "stream",
          "text": [
            "Epoch 339: 100%|██████████| 29/29 [00:01<00:00, 20.56batch/s, accuracy=0.987, loss=0.0276]\n"
          ]
        },
        {
          "name": "stdout",
          "output_type": "stream",
          "text": [
            "Valid: Loss = 0.4893, Acc = 0.9131\n",
            "\n"
          ]
        },
        {
          "name": "stderr",
          "output_type": "stream",
          "text": [
            "Epoch 340: 100%|██████████| 29/29 [00:01<00:00, 20.77batch/s, accuracy=0.988, loss=0.0285]\n"
          ]
        },
        {
          "name": "stdout",
          "output_type": "stream",
          "text": [
            "Valid: Loss = 0.5027, Acc = 0.9125\n",
            "\n"
          ]
        },
        {
          "name": "stderr",
          "output_type": "stream",
          "text": [
            "Epoch 341: 100%|██████████| 29/29 [00:01<00:00, 20.58batch/s, accuracy=0.988, loss=0.0269]\n"
          ]
        },
        {
          "name": "stdout",
          "output_type": "stream",
          "text": [
            "Valid: Loss = 0.5277, Acc = 0.9097\n",
            "\n"
          ]
        },
        {
          "name": "stderr",
          "output_type": "stream",
          "text": [
            "Epoch 342: 100%|██████████| 29/29 [00:01<00:00, 21.27batch/s, accuracy=0.988, loss=0.0258]\n"
          ]
        },
        {
          "name": "stdout",
          "output_type": "stream",
          "text": [
            "Valid: Loss = 0.5001, Acc = 0.9169\n",
            "\n"
          ]
        },
        {
          "name": "stderr",
          "output_type": "stream",
          "text": [
            "Epoch 343: 100%|██████████| 29/29 [00:01<00:00, 20.91batch/s, accuracy=0.986, loss=0.0318]\n"
          ]
        },
        {
          "name": "stdout",
          "output_type": "stream",
          "text": [
            "Valid: Loss = 0.4769, Acc = 0.9135\n",
            "\n"
          ]
        },
        {
          "name": "stderr",
          "output_type": "stream",
          "text": [
            "Epoch 344: 100%|██████████| 29/29 [00:01<00:00, 21.31batch/s, accuracy=0.99, loss=0.0241]\n"
          ]
        },
        {
          "name": "stdout",
          "output_type": "stream",
          "text": [
            "Valid: Loss = 0.4799, Acc = 0.9182\n",
            "\n"
          ]
        },
        {
          "name": "stderr",
          "output_type": "stream",
          "text": [
            "Epoch 345: 100%|██████████| 29/29 [00:01<00:00, 21.02batch/s, accuracy=0.987, loss=0.0285]\n"
          ]
        },
        {
          "name": "stdout",
          "output_type": "stream",
          "text": [
            "Valid: Loss = 0.4851, Acc = 0.9138\n",
            "\n"
          ]
        },
        {
          "name": "stderr",
          "output_type": "stream",
          "text": [
            "Epoch 346: 100%|██████████| 29/29 [00:01<00:00, 20.78batch/s, accuracy=0.99, loss=0.0256]\n"
          ]
        },
        {
          "name": "stdout",
          "output_type": "stream",
          "text": [
            "Valid: Loss = 0.467, Acc = 0.9111\n",
            "\n"
          ]
        },
        {
          "name": "stderr",
          "output_type": "stream",
          "text": [
            "Epoch 347: 100%|██████████| 29/29 [00:01<00:00, 21.19batch/s, accuracy=0.988, loss=0.0293]\n"
          ]
        },
        {
          "name": "stdout",
          "output_type": "stream",
          "text": [
            "Valid: Loss = 0.4727, Acc = 0.9141\n",
            "\n"
          ]
        },
        {
          "name": "stderr",
          "output_type": "stream",
          "text": [
            "Epoch 348: 100%|██████████| 29/29 [00:01<00:00, 21.06batch/s, accuracy=0.987, loss=0.0275]\n"
          ]
        },
        {
          "name": "stdout",
          "output_type": "stream",
          "text": [
            "Valid: Loss = 0.4936, Acc = 0.9094\n",
            "\n"
          ]
        },
        {
          "name": "stderr",
          "output_type": "stream",
          "text": [
            "Epoch 349: 100%|██████████| 29/29 [00:01<00:00, 19.68batch/s, accuracy=0.985, loss=0.0367]\n"
          ]
        },
        {
          "name": "stdout",
          "output_type": "stream",
          "text": [
            "Valid: Loss = 0.4424, Acc = 0.9128\n",
            "\n"
          ]
        },
        {
          "name": "stderr",
          "output_type": "stream",
          "text": [
            "Epoch 350: 100%|██████████| 29/29 [00:01<00:00, 21.30batch/s, accuracy=0.989, loss=0.0264]\n"
          ]
        },
        {
          "name": "stdout",
          "output_type": "stream",
          "text": [
            "Valid: Loss = 0.4738, Acc = 0.9155\n",
            "\n"
          ]
        },
        {
          "name": "stderr",
          "output_type": "stream",
          "text": [
            "Epoch 351: 100%|██████████| 29/29 [00:01<00:00, 21.34batch/s, accuracy=0.988, loss=0.0261]\n"
          ]
        },
        {
          "name": "stdout",
          "output_type": "stream",
          "text": [
            "Valid: Loss = 0.4957, Acc = 0.9162\n",
            "\n"
          ]
        },
        {
          "name": "stderr",
          "output_type": "stream",
          "text": [
            "Epoch 352: 100%|██████████| 29/29 [00:01<00:00, 21.10batch/s, accuracy=0.99, loss=0.0247]\n"
          ]
        },
        {
          "name": "stdout",
          "output_type": "stream",
          "text": [
            "Valid: Loss = 0.4872, Acc = 0.9091\n",
            "\n"
          ]
        },
        {
          "name": "stderr",
          "output_type": "stream",
          "text": [
            "Epoch 353: 100%|██████████| 29/29 [00:01<00:00, 20.84batch/s, accuracy=0.988, loss=0.0317]\n"
          ]
        },
        {
          "name": "stdout",
          "output_type": "stream",
          "text": [
            "Valid: Loss = 0.4821, Acc = 0.9152\n",
            "\n"
          ]
        },
        {
          "name": "stderr",
          "output_type": "stream",
          "text": [
            "Epoch 354: 100%|██████████| 29/29 [00:01<00:00, 21.14batch/s, accuracy=0.988, loss=0.0297]\n"
          ]
        },
        {
          "name": "stdout",
          "output_type": "stream",
          "text": [
            "Valid: Loss = 0.4684, Acc = 0.9165\n",
            "\n"
          ]
        },
        {
          "name": "stderr",
          "output_type": "stream",
          "text": [
            "Epoch 355: 100%|██████████| 29/29 [00:01<00:00, 21.24batch/s, accuracy=0.989, loss=0.0256]\n"
          ]
        },
        {
          "name": "stdout",
          "output_type": "stream",
          "text": [
            "Valid: Loss = 0.4839, Acc = 0.9091\n",
            "\n"
          ]
        },
        {
          "name": "stderr",
          "output_type": "stream",
          "text": [
            "Epoch 356: 100%|██████████| 29/29 [00:01<00:00, 21.09batch/s, accuracy=0.988, loss=0.028]\n"
          ]
        },
        {
          "name": "stdout",
          "output_type": "stream",
          "text": [
            "Valid: Loss = 0.4836, Acc = 0.9111\n",
            "\n"
          ]
        },
        {
          "name": "stderr",
          "output_type": "stream",
          "text": [
            "Epoch 357: 100%|██████████| 29/29 [00:01<00:00, 21.03batch/s, accuracy=0.989, loss=0.0278]\n"
          ]
        },
        {
          "name": "stdout",
          "output_type": "stream",
          "text": [
            "Valid: Loss = 0.4858, Acc = 0.9091\n",
            "\n"
          ]
        },
        {
          "name": "stderr",
          "output_type": "stream",
          "text": [
            "Epoch 358: 100%|██████████| 29/29 [00:01<00:00, 20.78batch/s, accuracy=0.988, loss=0.0263]\n"
          ]
        },
        {
          "name": "stdout",
          "output_type": "stream",
          "text": [
            "Valid: Loss = 0.4865, Acc = 0.9138\n",
            "\n"
          ]
        },
        {
          "name": "stderr",
          "output_type": "stream",
          "text": [
            "Epoch 359: 100%|██████████| 29/29 [00:01<00:00, 21.10batch/s, accuracy=0.99, loss=0.0243]\n"
          ]
        },
        {
          "name": "stdout",
          "output_type": "stream",
          "text": [
            "Valid: Loss = 0.4721, Acc = 0.9172\n",
            "\n"
          ]
        },
        {
          "name": "stderr",
          "output_type": "stream",
          "text": [
            "Epoch 360: 100%|██████████| 29/29 [00:01<00:00, 20.88batch/s, accuracy=0.989, loss=0.0262]\n"
          ]
        },
        {
          "name": "stdout",
          "output_type": "stream",
          "text": [
            "Valid: Loss = 0.5103, Acc = 0.9111\n",
            "\n"
          ]
        },
        {
          "name": "stderr",
          "output_type": "stream",
          "text": [
            "Epoch 361: 100%|██████████| 29/29 [00:01<00:00, 21.30batch/s, accuracy=0.988, loss=0.0278]\n"
          ]
        },
        {
          "name": "stdout",
          "output_type": "stream",
          "text": [
            "Valid: Loss = 0.4838, Acc = 0.9206\n",
            "\n"
          ]
        },
        {
          "name": "stderr",
          "output_type": "stream",
          "text": [
            "Epoch 362: 100%|██████████| 29/29 [00:01<00:00, 21.04batch/s, accuracy=0.99, loss=0.0233]\n"
          ]
        },
        {
          "name": "stdout",
          "output_type": "stream",
          "text": [
            "Valid: Loss = 0.4818, Acc = 0.9158\n",
            "\n"
          ]
        },
        {
          "name": "stderr",
          "output_type": "stream",
          "text": [
            "Epoch 363: 100%|██████████| 29/29 [00:01<00:00, 21.00batch/s, accuracy=0.989, loss=0.0255]\n"
          ]
        },
        {
          "name": "stdout",
          "output_type": "stream",
          "text": [
            "Valid: Loss = 0.4983, Acc = 0.9145\n",
            "\n"
          ]
        },
        {
          "name": "stderr",
          "output_type": "stream",
          "text": [
            "Epoch 364: 100%|██████████| 29/29 [00:01<00:00, 20.86batch/s, accuracy=0.99, loss=0.0248]\n"
          ]
        },
        {
          "name": "stdout",
          "output_type": "stream",
          "text": [
            "Valid: Loss = 0.4861, Acc = 0.9108\n",
            "\n"
          ]
        },
        {
          "name": "stderr",
          "output_type": "stream",
          "text": [
            "Epoch 365: 100%|██████████| 29/29 [00:01<00:00, 21.31batch/s, accuracy=0.989, loss=0.026]\n"
          ]
        },
        {
          "name": "stdout",
          "output_type": "stream",
          "text": [
            "Valid: Loss = 0.4825, Acc = 0.9169\n",
            "\n"
          ]
        },
        {
          "name": "stderr",
          "output_type": "stream",
          "text": [
            "Epoch 366: 100%|██████████| 29/29 [00:01<00:00, 20.91batch/s, accuracy=0.988, loss=0.0278]\n"
          ]
        },
        {
          "name": "stdout",
          "output_type": "stream",
          "text": [
            "Valid: Loss = 0.4841, Acc = 0.9199\n",
            "\n"
          ]
        },
        {
          "name": "stderr",
          "output_type": "stream",
          "text": [
            "Epoch 367: 100%|██████████| 29/29 [00:01<00:00, 21.21batch/s, accuracy=0.987, loss=0.034]\n"
          ]
        },
        {
          "name": "stdout",
          "output_type": "stream",
          "text": [
            "Valid: Loss = 0.4763, Acc = 0.9186\n",
            "\n"
          ]
        },
        {
          "name": "stderr",
          "output_type": "stream",
          "text": [
            "Epoch 368: 100%|██████████| 29/29 [00:01<00:00, 21.06batch/s, accuracy=0.987, loss=0.0324]\n"
          ]
        },
        {
          "name": "stdout",
          "output_type": "stream",
          "text": [
            "Valid: Loss = 0.4611, Acc = 0.9179\n",
            "\n"
          ]
        },
        {
          "name": "stderr",
          "output_type": "stream",
          "text": [
            "Epoch 369: 100%|██████████| 29/29 [00:01<00:00, 20.96batch/s, accuracy=0.987, loss=0.0283]\n"
          ]
        },
        {
          "name": "stdout",
          "output_type": "stream",
          "text": [
            "Valid: Loss = 0.477, Acc = 0.9108\n",
            "\n"
          ]
        },
        {
          "name": "stderr",
          "output_type": "stream",
          "text": [
            "Epoch 370: 100%|██████████| 29/29 [00:01<00:00, 21.11batch/s, accuracy=0.99, loss=0.024]\n"
          ]
        },
        {
          "name": "stdout",
          "output_type": "stream",
          "text": [
            "Valid: Loss = 0.4827, Acc = 0.9118\n",
            "\n"
          ]
        },
        {
          "name": "stderr",
          "output_type": "stream",
          "text": [
            "Epoch 371: 100%|██████████| 29/29 [00:01<00:00, 21.08batch/s, accuracy=0.991, loss=0.0227]\n"
          ]
        },
        {
          "name": "stdout",
          "output_type": "stream",
          "text": [
            "Valid: Loss = 0.4984, Acc = 0.9152\n",
            "\n"
          ]
        },
        {
          "name": "stderr",
          "output_type": "stream",
          "text": [
            "Epoch 372: 100%|██████████| 29/29 [00:01<00:00, 19.60batch/s, accuracy=0.99, loss=0.0244]\n"
          ]
        },
        {
          "name": "stdout",
          "output_type": "stream",
          "text": [
            "Valid: Loss = 0.4936, Acc = 0.9125\n",
            "\n"
          ]
        },
        {
          "name": "stderr",
          "output_type": "stream",
          "text": [
            "Epoch 373: 100%|██████████| 29/29 [00:01<00:00, 21.07batch/s, accuracy=0.989, loss=0.0272]\n"
          ]
        },
        {
          "name": "stdout",
          "output_type": "stream",
          "text": [
            "Valid: Loss = 0.5179, Acc = 0.9158\n",
            "\n"
          ]
        },
        {
          "name": "stderr",
          "output_type": "stream",
          "text": [
            "Epoch 374: 100%|██████████| 29/29 [00:01<00:00, 20.70batch/s, accuracy=0.985, loss=0.0331]\n"
          ]
        },
        {
          "name": "stdout",
          "output_type": "stream",
          "text": [
            "Valid: Loss = 0.5159, Acc = 0.9108\n",
            "\n"
          ]
        },
        {
          "name": "stderr",
          "output_type": "stream",
          "text": [
            "Epoch 375: 100%|██████████| 29/29 [00:01<00:00, 21.02batch/s, accuracy=0.984, loss=0.0376]\n"
          ]
        },
        {
          "name": "stdout",
          "output_type": "stream",
          "text": [
            "Valid: Loss = 0.5214, Acc = 0.9131\n",
            "\n"
          ]
        },
        {
          "name": "stderr",
          "output_type": "stream",
          "text": [
            "Epoch 376: 100%|██████████| 29/29 [00:01<00:00, 21.07batch/s, accuracy=0.99, loss=0.0239]\n"
          ]
        },
        {
          "name": "stdout",
          "output_type": "stream",
          "text": [
            "Valid: Loss = 0.5009, Acc = 0.9125\n",
            "\n"
          ]
        },
        {
          "name": "stderr",
          "output_type": "stream",
          "text": [
            "Epoch 377: 100%|██████████| 29/29 [00:01<00:00, 21.02batch/s, accuracy=0.989, loss=0.0257]\n"
          ]
        },
        {
          "name": "stdout",
          "output_type": "stream",
          "text": [
            "Valid: Loss = 0.5, Acc = 0.9152\n",
            "\n"
          ]
        },
        {
          "name": "stderr",
          "output_type": "stream",
          "text": [
            "Epoch 378: 100%|██████████| 29/29 [00:01<00:00, 20.89batch/s, accuracy=0.99, loss=0.0246]\n"
          ]
        },
        {
          "name": "stdout",
          "output_type": "stream",
          "text": [
            "Valid: Loss = 0.4881, Acc = 0.9172\n",
            "\n"
          ]
        },
        {
          "name": "stderr",
          "output_type": "stream",
          "text": [
            "Epoch 379: 100%|██████████| 29/29 [00:01<00:00, 21.03batch/s, accuracy=0.989, loss=0.0271]\n"
          ]
        },
        {
          "name": "stdout",
          "output_type": "stream",
          "text": [
            "Valid: Loss = 0.4724, Acc = 0.9152\n",
            "\n"
          ]
        },
        {
          "name": "stderr",
          "output_type": "stream",
          "text": [
            "Epoch 380: 100%|██████████| 29/29 [00:01<00:00, 21.20batch/s, accuracy=0.99, loss=0.0245]\n"
          ]
        },
        {
          "name": "stdout",
          "output_type": "stream",
          "text": [
            "Valid: Loss = 0.4734, Acc = 0.9155\n",
            "\n"
          ]
        },
        {
          "name": "stderr",
          "output_type": "stream",
          "text": [
            "Epoch 381: 100%|██████████| 29/29 [00:01<00:00, 21.12batch/s, accuracy=0.989, loss=0.0295]\n"
          ]
        },
        {
          "name": "stdout",
          "output_type": "stream",
          "text": [
            "Valid: Loss = 0.4642, Acc = 0.9186\n",
            "\n"
          ]
        },
        {
          "name": "stderr",
          "output_type": "stream",
          "text": [
            "Epoch 382: 100%|██████████| 29/29 [00:01<00:00, 20.95batch/s, accuracy=0.987, loss=0.0276]\n"
          ]
        },
        {
          "name": "stdout",
          "output_type": "stream",
          "text": [
            "Valid: Loss = 0.4518, Acc = 0.9172\n",
            "\n"
          ]
        },
        {
          "name": "stderr",
          "output_type": "stream",
          "text": [
            "Epoch 383: 100%|██████████| 29/29 [00:01<00:00, 20.90batch/s, accuracy=0.992, loss=0.0204]\n"
          ]
        },
        {
          "name": "stdout",
          "output_type": "stream",
          "text": [
            "Valid: Loss = 0.4604, Acc = 0.9223\n",
            "\n"
          ]
        },
        {
          "name": "stderr",
          "output_type": "stream",
          "text": [
            "Epoch 384: 100%|██████████| 29/29 [00:01<00:00, 21.18batch/s, accuracy=0.988, loss=0.0267]\n"
          ]
        },
        {
          "name": "stdout",
          "output_type": "stream",
          "text": [
            "Valid: Loss = 0.4771, Acc = 0.9165\n",
            "\n"
          ]
        },
        {
          "name": "stderr",
          "output_type": "stream",
          "text": [
            "Epoch 385: 100%|██████████| 29/29 [00:01<00:00, 21.30batch/s, accuracy=0.989, loss=0.0253]\n"
          ]
        },
        {
          "name": "stdout",
          "output_type": "stream",
          "text": [
            "Valid: Loss = 0.46, Acc = 0.9186\n",
            "\n"
          ]
        },
        {
          "name": "stderr",
          "output_type": "stream",
          "text": [
            "Epoch 386: 100%|██████████| 29/29 [00:01<00:00, 20.88batch/s, accuracy=0.99, loss=0.0244]\n"
          ]
        },
        {
          "name": "stdout",
          "output_type": "stream",
          "text": [
            "Valid: Loss = 0.4787, Acc = 0.9094\n",
            "\n"
          ]
        },
        {
          "name": "stderr",
          "output_type": "stream",
          "text": [
            "Epoch 387: 100%|██████████| 29/29 [00:01<00:00, 21.16batch/s, accuracy=0.99, loss=0.0251]\n"
          ]
        },
        {
          "name": "stdout",
          "output_type": "stream",
          "text": [
            "Valid: Loss = 0.467, Acc = 0.9179\n",
            "\n"
          ]
        },
        {
          "name": "stderr",
          "output_type": "stream",
          "text": [
            "Epoch 388: 100%|██████████| 29/29 [00:01<00:00, 21.33batch/s, accuracy=0.989, loss=0.0264]\n"
          ]
        },
        {
          "name": "stdout",
          "output_type": "stream",
          "text": [
            "Valid: Loss = 0.4771, Acc = 0.9162\n",
            "\n"
          ]
        },
        {
          "name": "stderr",
          "output_type": "stream",
          "text": [
            "Epoch 389: 100%|██████████| 29/29 [00:01<00:00, 21.28batch/s, accuracy=0.987, loss=0.0331]\n"
          ]
        },
        {
          "name": "stdout",
          "output_type": "stream",
          "text": [
            "Valid: Loss = 0.4582, Acc = 0.9209\n",
            "\n"
          ]
        },
        {
          "name": "stderr",
          "output_type": "stream",
          "text": [
            "Epoch 390: 100%|██████████| 29/29 [00:01<00:00, 21.28batch/s, accuracy=0.99, loss=0.027]\n"
          ]
        },
        {
          "name": "stdout",
          "output_type": "stream",
          "text": [
            "Valid: Loss = 0.4487, Acc = 0.9165\n",
            "\n"
          ]
        },
        {
          "name": "stderr",
          "output_type": "stream",
          "text": [
            "Epoch 391: 100%|██████████| 29/29 [00:01<00:00, 20.87batch/s, accuracy=0.988, loss=0.0303]\n"
          ]
        },
        {
          "name": "stdout",
          "output_type": "stream",
          "text": [
            "Valid: Loss = 0.474, Acc = 0.9097\n",
            "\n"
          ]
        },
        {
          "name": "stderr",
          "output_type": "stream",
          "text": [
            "Epoch 392: 100%|██████████| 29/29 [00:01<00:00, 21.34batch/s, accuracy=0.987, loss=0.0298]\n"
          ]
        },
        {
          "name": "stdout",
          "output_type": "stream",
          "text": [
            "Valid: Loss = 0.4636, Acc = 0.9196\n",
            "\n"
          ]
        },
        {
          "name": "stderr",
          "output_type": "stream",
          "text": [
            "Epoch 393: 100%|██████████| 29/29 [00:01<00:00, 21.00batch/s, accuracy=0.986, loss=0.0324]\n"
          ]
        },
        {
          "name": "stdout",
          "output_type": "stream",
          "text": [
            "Valid: Loss = 0.4657, Acc = 0.9141\n",
            "\n"
          ]
        },
        {
          "name": "stderr",
          "output_type": "stream",
          "text": [
            "Epoch 394: 100%|██████████| 29/29 [00:01<00:00, 20.99batch/s, accuracy=0.988, loss=0.0302]\n"
          ]
        },
        {
          "name": "stdout",
          "output_type": "stream",
          "text": [
            "Valid: Loss = 0.4564, Acc = 0.9189\n",
            "\n"
          ]
        },
        {
          "name": "stderr",
          "output_type": "stream",
          "text": [
            "Epoch 395: 100%|██████████| 29/29 [00:01<00:00, 20.15batch/s, accuracy=0.991, loss=0.0219]\n"
          ]
        },
        {
          "name": "stdout",
          "output_type": "stream",
          "text": [
            "Valid: Loss = 0.4837, Acc = 0.9158\n",
            "\n"
          ]
        },
        {
          "name": "stderr",
          "output_type": "stream",
          "text": [
            "Epoch 396: 100%|██████████| 29/29 [00:01<00:00, 20.34batch/s, accuracy=0.991, loss=0.0261]\n"
          ]
        },
        {
          "name": "stdout",
          "output_type": "stream",
          "text": [
            "Valid: Loss = 0.4952, Acc = 0.9148\n",
            "\n"
          ]
        },
        {
          "name": "stderr",
          "output_type": "stream",
          "text": [
            "Epoch 397: 100%|██████████| 29/29 [00:01<00:00, 20.78batch/s, accuracy=0.988, loss=0.0299]\n"
          ]
        },
        {
          "name": "stdout",
          "output_type": "stream",
          "text": [
            "Valid: Loss = 0.4801, Acc = 0.9138\n",
            "\n"
          ]
        },
        {
          "name": "stderr",
          "output_type": "stream",
          "text": [
            "Epoch 398: 100%|██████████| 29/29 [00:01<00:00, 20.95batch/s, accuracy=0.99, loss=0.025]\n"
          ]
        },
        {
          "name": "stdout",
          "output_type": "stream",
          "text": [
            "Valid: Loss = 0.4898, Acc = 0.9128\n",
            "\n"
          ]
        },
        {
          "name": "stderr",
          "output_type": "stream",
          "text": [
            "Epoch 399: 100%|██████████| 29/29 [00:01<00:00, 21.14batch/s, accuracy=0.99, loss=0.0259]\n"
          ]
        },
        {
          "name": "stdout",
          "output_type": "stream",
          "text": [
            "Valid: Loss = 0.4738, Acc = 0.9155\n",
            "\n"
          ]
        }
      ],
      "source": [
        "num_epochs = 400\n",
        "\n",
        "for epoch in range(num_epochs):\n",
        "  # Train\n",
        "  model, loss_train, acc_train = train_one_epoch(model, \n",
        "                                                 train_loader, \n",
        "                                                 loss_fn, \n",
        "                                                 optimizer,\n",
        "                                                 epoch)\n",
        "  # Validation\n",
        "  loss_valid, acc_valid = validation(model,\n",
        "                                     test_loader,\n",
        "                                     loss_fn)\n",
        "  \n",
        "  loss_train_hist.append(loss_train)\n",
        "  loss_valid_hist.append(loss_valid)\n",
        "\n",
        "  acc_train_hist.append(acc_train)\n",
        "  acc_valid_hist.append(acc_valid)\n",
        "  \n",
        "  if loss_valid < best_loss_valid:\n",
        "    torch.save(model, f'model.pt')\n",
        "    best_loss_valid = loss_valid\n",
        "\n",
        "  print(f'Valid: Loss = {loss_valid:.4}, Acc = {acc_valid:.4}')\n",
        "  print()\n",
        "\n",
        "  epoch_counter += 1"
      ]
    },
    {
      "cell_type": "code",
      "execution_count": null,
      "metadata": {
        "colab": {
          "base_uri": "https://localhost:8080/",
          "height": 296
        },
        "id": "E10kXaapnqtq",
        "outputId": "697e2a7c-406e-4aea-ef94-d74ab9c8af7f"
      },
      "outputs": [
        {
          "data": {
            "text/plain": [
              "<matplotlib.legend.Legend at 0x7fe4427b1e20>"
            ]
          },
          "execution_count": 26,
          "metadata": {},
          "output_type": "execute_result"
        },
        {
          "data": {
            "image/png": "[encoded data removed]",
            "text/plain": [
              "<Figure size 432x288 with 1 Axes>"
            ]
          },
          "metadata": {},
          "output_type": "display_data"
        }
      ],
      "source": [
        "plt.plot(range(epoch_counter), acc_train_hist, 'r-', label='Train')\n",
        "plt.plot(range(epoch_counter), acc_valid_hist, 'b-', label='Validation')\n",
        "\n",
        "plt.xlabel('Epoch')\n",
        "plt.ylabel('Acc')\n",
        "plt.grid(True)\n",
        "plt.legend()"
      ]
    },
    {
      "cell_type": "code",
      "execution_count": null,
      "metadata": {
        "colab": {
          "base_uri": "https://localhost:8080/",
          "height": 300
        },
        "id": "-norx5ex0NvO",
        "outputId": "deef2dc6-0e76-4913-d8e8-2cc9d089966d"
      },
      "outputs": [
        {
          "data": {
            "text/plain": [
              "<matplotlib.legend.Legend at 0x7fe4416d1880>"
            ]
          },
          "execution_count": 32,
          "metadata": {},
          "output_type": "execute_result"
        },
        {
          "data": {
            "image/png": "[encoded data removed]",
            "text/plain": [
              "<Figure size 432x288 with 1 Axes>"
            ]
          },
          "metadata": {},
          "output_type": "display_data"
        }
      ],
      "source": [
        "plt.plot(range(epoch_counter), loss_train_hist, 'r-', label='Train')\n",
        "plt.plot(range(epoch_counter), loss_valid_hist, 'b-', label='Validation')\n",
        "\n",
        "plt.xlabel('Epoch')\n",
        "plt.ylabel('loss')\n",
        "plt.grid(True)\n",
        "plt.legend()"
      ]
    }
  ],
  "metadata": {
    "accelerator": "GPU",
    "colab": {
      "provenance": [],
      "include_colab_link": true
    },
    "gpuClass": "standard",
    "kernelspec": {
      "display_name": "Python 3",
      "name": "python3"
    },
    "language_info": {
      "name": "python"
    }
  },
  "nbformat": 4,
  "nbformat_minor": 0
}